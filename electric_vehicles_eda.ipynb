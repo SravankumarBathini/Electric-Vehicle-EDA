{
 "cells": [
  {
   "cell_type": "code",
   "execution_count": 1,
   "metadata": {},
   "outputs": [],
   "source": [
    "import pandas as pd\n",
    "import numpy as np\n",
    "import matplotlib.pyplot as plt\n",
    "import seaborn as sns"
   ]
  },
  {
   "cell_type": "code",
   "execution_count": 2,
   "metadata": {},
   "outputs": [],
   "source": [
    "import warnings\n",
    "warnings.filterwarnings('ignore')"
   ]
  },
  {
   "cell_type": "code",
   "execution_count": 3,
   "metadata": {},
   "outputs": [
    {
     "data": {
      "text/html": [
       "<div>\n",
       "<style scoped>\n",
       "    .dataframe tbody tr th:only-of-type {\n",
       "        vertical-align: middle;\n",
       "    }\n",
       "\n",
       "    .dataframe tbody tr th {\n",
       "        vertical-align: top;\n",
       "    }\n",
       "\n",
       "    .dataframe thead th {\n",
       "        text-align: right;\n",
       "    }\n",
       "</style>\n",
       "<table border=\"1\" class=\"dataframe\">\n",
       "  <thead>\n",
       "    <tr style=\"text-align: right;\">\n",
       "      <th></th>\n",
       "      <th>VIN (1-10)</th>\n",
       "      <th>County</th>\n",
       "      <th>City</th>\n",
       "      <th>State</th>\n",
       "      <th>Postal Code</th>\n",
       "      <th>Model Year</th>\n",
       "      <th>Make</th>\n",
       "      <th>Model</th>\n",
       "      <th>Electric Vehicle Type</th>\n",
       "      <th>Clean Alternative Fuel Vehicle (CAFV) Eligibility</th>\n",
       "      <th>Electric Range</th>\n",
       "      <th>Base MSRP</th>\n",
       "      <th>Legislative District</th>\n",
       "      <th>DOL Vehicle ID</th>\n",
       "      <th>Vehicle Location</th>\n",
       "      <th>Electric Utility</th>\n",
       "      <th>2020 Census Tract</th>\n",
       "    </tr>\n",
       "  </thead>\n",
       "  <tbody>\n",
       "    <tr>\n",
       "      <th>0</th>\n",
       "      <td>JTMEB3FV6N</td>\n",
       "      <td>Monroe</td>\n",
       "      <td>Key West</td>\n",
       "      <td>FL</td>\n",
       "      <td>33040</td>\n",
       "      <td>2022</td>\n",
       "      <td>TOYOTA</td>\n",
       "      <td>RAV4 PRIME</td>\n",
       "      <td>Plug-in Hybrid Electric Vehicle (PHEV)</td>\n",
       "      <td>Clean Alternative Fuel Vehicle Eligible</td>\n",
       "      <td>42</td>\n",
       "      <td>0</td>\n",
       "      <td>NaN</td>\n",
       "      <td>198968248</td>\n",
       "      <td>POINT (-81.80023 24.5545)</td>\n",
       "      <td>NaN</td>\n",
       "      <td>12087972100</td>\n",
       "    </tr>\n",
       "    <tr>\n",
       "      <th>1</th>\n",
       "      <td>1G1RD6E45D</td>\n",
       "      <td>Clark</td>\n",
       "      <td>Laughlin</td>\n",
       "      <td>NV</td>\n",
       "      <td>89029</td>\n",
       "      <td>2013</td>\n",
       "      <td>CHEVROLET</td>\n",
       "      <td>VOLT</td>\n",
       "      <td>Plug-in Hybrid Electric Vehicle (PHEV)</td>\n",
       "      <td>Clean Alternative Fuel Vehicle Eligible</td>\n",
       "      <td>38</td>\n",
       "      <td>0</td>\n",
       "      <td>NaN</td>\n",
       "      <td>5204412</td>\n",
       "      <td>POINT (-114.57245 35.16815)</td>\n",
       "      <td>NaN</td>\n",
       "      <td>32003005702</td>\n",
       "    </tr>\n",
       "    <tr>\n",
       "      <th>2</th>\n",
       "      <td>JN1AZ0CP8B</td>\n",
       "      <td>Yakima</td>\n",
       "      <td>Yakima</td>\n",
       "      <td>WA</td>\n",
       "      <td>98901</td>\n",
       "      <td>2011</td>\n",
       "      <td>NISSAN</td>\n",
       "      <td>LEAF</td>\n",
       "      <td>Battery Electric Vehicle (BEV)</td>\n",
       "      <td>Clean Alternative Fuel Vehicle Eligible</td>\n",
       "      <td>73</td>\n",
       "      <td>0</td>\n",
       "      <td>15.0</td>\n",
       "      <td>218972519</td>\n",
       "      <td>POINT (-120.50721 46.60448)</td>\n",
       "      <td>PACIFICORP</td>\n",
       "      <td>53077001602</td>\n",
       "    </tr>\n",
       "    <tr>\n",
       "      <th>3</th>\n",
       "      <td>1G1FW6S08H</td>\n",
       "      <td>Skagit</td>\n",
       "      <td>Concrete</td>\n",
       "      <td>WA</td>\n",
       "      <td>98237</td>\n",
       "      <td>2017</td>\n",
       "      <td>CHEVROLET</td>\n",
       "      <td>BOLT EV</td>\n",
       "      <td>Battery Electric Vehicle (BEV)</td>\n",
       "      <td>Clean Alternative Fuel Vehicle Eligible</td>\n",
       "      <td>238</td>\n",
       "      <td>0</td>\n",
       "      <td>39.0</td>\n",
       "      <td>186750406</td>\n",
       "      <td>POINT (-121.7515 48.53892)</td>\n",
       "      <td>PUGET SOUND ENERGY INC</td>\n",
       "      <td>53057951101</td>\n",
       "    </tr>\n",
       "    <tr>\n",
       "      <th>4</th>\n",
       "      <td>3FA6P0SU1K</td>\n",
       "      <td>Snohomish</td>\n",
       "      <td>Everett</td>\n",
       "      <td>WA</td>\n",
       "      <td>98201</td>\n",
       "      <td>2019</td>\n",
       "      <td>FORD</td>\n",
       "      <td>FUSION</td>\n",
       "      <td>Plug-in Hybrid Electric Vehicle (PHEV)</td>\n",
       "      <td>Not eligible due to low battery range</td>\n",
       "      <td>26</td>\n",
       "      <td>0</td>\n",
       "      <td>38.0</td>\n",
       "      <td>2006714</td>\n",
       "      <td>POINT (-122.20596 47.97659)</td>\n",
       "      <td>PUGET SOUND ENERGY INC</td>\n",
       "      <td>53061041500</td>\n",
       "    </tr>\n",
       "  </tbody>\n",
       "</table>\n",
       "</div>"
      ],
      "text/plain": [
       "   VIN (1-10)     County      City State  Postal Code  Model Year       Make  \\\n",
       "0  JTMEB3FV6N     Monroe  Key West    FL        33040        2022     TOYOTA   \n",
       "1  1G1RD6E45D      Clark  Laughlin    NV        89029        2013  CHEVROLET   \n",
       "2  JN1AZ0CP8B     Yakima    Yakima    WA        98901        2011     NISSAN   \n",
       "3  1G1FW6S08H     Skagit  Concrete    WA        98237        2017  CHEVROLET   \n",
       "4  3FA6P0SU1K  Snohomish   Everett    WA        98201        2019       FORD   \n",
       "\n",
       "        Model                   Electric Vehicle Type  \\\n",
       "0  RAV4 PRIME  Plug-in Hybrid Electric Vehicle (PHEV)   \n",
       "1        VOLT  Plug-in Hybrid Electric Vehicle (PHEV)   \n",
       "2        LEAF          Battery Electric Vehicle (BEV)   \n",
       "3     BOLT EV          Battery Electric Vehicle (BEV)   \n",
       "4      FUSION  Plug-in Hybrid Electric Vehicle (PHEV)   \n",
       "\n",
       "  Clean Alternative Fuel Vehicle (CAFV) Eligibility  Electric Range  \\\n",
       "0           Clean Alternative Fuel Vehicle Eligible              42   \n",
       "1           Clean Alternative Fuel Vehicle Eligible              38   \n",
       "2           Clean Alternative Fuel Vehicle Eligible              73   \n",
       "3           Clean Alternative Fuel Vehicle Eligible             238   \n",
       "4             Not eligible due to low battery range              26   \n",
       "\n",
       "   Base MSRP  Legislative District  DOL Vehicle ID  \\\n",
       "0          0                   NaN       198968248   \n",
       "1          0                   NaN         5204412   \n",
       "2          0                  15.0       218972519   \n",
       "3          0                  39.0       186750406   \n",
       "4          0                  38.0         2006714   \n",
       "\n",
       "              Vehicle Location        Electric Utility  2020 Census Tract  \n",
       "0    POINT (-81.80023 24.5545)                     NaN        12087972100  \n",
       "1  POINT (-114.57245 35.16815)                     NaN        32003005702  \n",
       "2  POINT (-120.50721 46.60448)              PACIFICORP        53077001602  \n",
       "3   POINT (-121.7515 48.53892)  PUGET SOUND ENERGY INC        53057951101  \n",
       "4  POINT (-122.20596 47.97659)  PUGET SOUND ENERGY INC        53061041500  "
      ]
     },
     "execution_count": 3,
     "metadata": {},
     "output_type": "execute_result"
    }
   ],
   "source": [
    "data = pd.read_csv('dataset.csv')\n",
    "data.head() \n"
   ]
  },
  {
   "cell_type": "code",
   "execution_count": 4,
   "metadata": {},
   "outputs": [
    {
     "data": {
      "text/plain": [
       "(112634, 17)"
      ]
     },
     "execution_count": 4,
     "metadata": {},
     "output_type": "execute_result"
    }
   ],
   "source": [
    "data.shape"
   ]
  },
  {
   "cell_type": "code",
   "execution_count": 5,
   "metadata": {},
   "outputs": [
    {
     "name": "stdout",
     "output_type": "stream",
     "text": [
      "<class 'pandas.core.frame.DataFrame'>\n",
      "RangeIndex: 112634 entries, 0 to 112633\n",
      "Data columns (total 17 columns):\n",
      " #   Column                                             Non-Null Count   Dtype  \n",
      "---  ------                                             --------------   -----  \n",
      " 0   VIN (1-10)                                         112634 non-null  object \n",
      " 1   County                                             112634 non-null  object \n",
      " 2   City                                               112634 non-null  object \n",
      " 3   State                                              112634 non-null  object \n",
      " 4   Postal Code                                        112634 non-null  int64  \n",
      " 5   Model Year                                         112634 non-null  int64  \n",
      " 6   Make                                               112634 non-null  object \n",
      " 7   Model                                              112614 non-null  object \n",
      " 8   Electric Vehicle Type                              112634 non-null  object \n",
      " 9   Clean Alternative Fuel Vehicle (CAFV) Eligibility  112634 non-null  object \n",
      " 10  Electric Range                                     112634 non-null  int64  \n",
      " 11  Base MSRP                                          112634 non-null  int64  \n",
      " 12  Legislative District                               112348 non-null  float64\n",
      " 13  DOL Vehicle ID                                     112634 non-null  int64  \n",
      " 14  Vehicle Location                                   112610 non-null  object \n",
      " 15  Electric Utility                                   112191 non-null  object \n",
      " 16  2020 Census Tract                                  112634 non-null  int64  \n",
      "dtypes: float64(1), int64(6), object(10)\n",
      "memory usage: 14.6+ MB\n"
     ]
    }
   ],
   "source": [
    "data.info()"
   ]
  },
  {
   "cell_type": "code",
   "execution_count": 6,
   "metadata": {},
   "outputs": [
    {
     "data": {
      "text/plain": [
       "Index(['VIN (1-10)', 'County', 'City', 'State', 'Postal Code', 'Model Year',\n",
       "       'Make', 'Model', 'Electric Vehicle Type',\n",
       "       'Clean Alternative Fuel Vehicle (CAFV) Eligibility', 'Electric Range',\n",
       "       'Base MSRP', 'Legislative District', 'DOL Vehicle ID',\n",
       "       'Vehicle Location', 'Electric Utility', '2020 Census Tract'],\n",
       "      dtype='object')"
      ]
     },
     "execution_count": 6,
     "metadata": {},
     "output_type": "execute_result"
    }
   ],
   "source": [
    "data.columns"
   ]
  },
  {
   "cell_type": "code",
   "execution_count": 7,
   "metadata": {},
   "outputs": [],
   "source": [
    "# adjusting the dataset's column names\n",
    "data.columns = data.columns.str.strip().str.lower().str.replace(' ', '_')"
   ]
  },
  {
   "cell_type": "code",
   "execution_count": 8,
   "metadata": {},
   "outputs": [
    {
     "data": {
      "text/plain": [
       "Index(['vin_(1-10)', 'county', 'city', 'state', 'postal_code', 'model_year',\n",
       "       'make', 'model', 'electric_vehicle_type',\n",
       "       'clean_alternative_fuel_vehicle_(cafv)_eligibility', 'electric_range',\n",
       "       'base_msrp', 'legislative_district', 'dol_vehicle_id',\n",
       "       'vehicle_location', 'electric_utility', '2020_census_tract'],\n",
       "      dtype='object')"
      ]
     },
     "execution_count": 8,
     "metadata": {},
     "output_type": "execute_result"
    }
   ],
   "source": [
    "data.columns"
   ]
  },
  {
   "cell_type": "code",
   "execution_count": 9,
   "metadata": {},
   "outputs": [
    {
     "data": {
      "text/plain": [
       "electric_utility                                     0.393309\n",
       "legislative_district                                 0.253920\n",
       "vehicle_location                                     0.021308\n",
       "model                                                0.017757\n",
       "vin_(1-10)                                           0.000000\n",
       "postal_code                                          0.000000\n",
       "county                                               0.000000\n",
       "state                                                0.000000\n",
       "city                                                 0.000000\n",
       "electric_vehicle_type                                0.000000\n",
       "make                                                 0.000000\n",
       "model_year                                           0.000000\n",
       "clean_alternative_fuel_vehicle_(cafv)_eligibility    0.000000\n",
       "base_msrp                                            0.000000\n",
       "electric_range                                       0.000000\n",
       "dol_vehicle_id                                       0.000000\n",
       "2020_census_tract                                    0.000000\n",
       "dtype: float64"
      ]
     },
     "execution_count": 9,
     "metadata": {},
     "output_type": "execute_result"
    }
   ],
   "source": [
    "# Checking for the null values in the dataset\n",
    "data.isnull().sum().sort_values(ascending=False)/data.shape[0]*100"
   ]
  },
  {
   "cell_type": "markdown",
   "metadata": {},
   "source": [
    "Percentage of the null values in the columns, with respect to the entire records in the dataset is significantly very low. Hence removing the records with null values."
   ]
  },
  {
   "cell_type": "code",
   "execution_count": 10,
   "metadata": {},
   "outputs": [],
   "source": [
    "data.dropna(axis=0, inplace=True)"
   ]
  },
  {
   "cell_type": "code",
   "execution_count": 11,
   "metadata": {},
   "outputs": [
    {
     "data": {
      "text/plain": [
       "vin_(1-10)                                           0\n",
       "county                                               0\n",
       "city                                                 0\n",
       "state                                                0\n",
       "postal_code                                          0\n",
       "model_year                                           0\n",
       "make                                                 0\n",
       "model                                                0\n",
       "electric_vehicle_type                                0\n",
       "clean_alternative_fuel_vehicle_(cafv)_eligibility    0\n",
       "electric_range                                       0\n",
       "base_msrp                                            0\n",
       "legislative_district                                 0\n",
       "dol_vehicle_id                                       0\n",
       "vehicle_location                                     0\n",
       "electric_utility                                     0\n",
       "2020_census_tract                                    0\n",
       "dtype: int64"
      ]
     },
     "execution_count": 11,
     "metadata": {},
     "output_type": "execute_result"
    }
   ],
   "source": [
    "data.isnull().sum()"
   ]
  },
  {
   "cell_type": "code",
   "execution_count": 12,
   "metadata": {},
   "outputs": [
    {
     "name": "stdout",
     "output_type": "stream",
     "text": [
      "There are 0 duplicate entries in the datset\n"
     ]
    }
   ],
   "source": [
    "# Checking, if there are any duplicate rows in the dataset\n",
    "print(\"There are {} duplicate entries in the datset\".format(data.duplicated().sum()))\n"
   ]
  },
  {
   "cell_type": "code",
   "execution_count": 13,
   "metadata": {},
   "outputs": [],
   "source": [
    "data['postal_code'] = data['postal_code'].astype('object')"
   ]
  },
  {
   "cell_type": "code",
   "execution_count": 14,
   "metadata": {},
   "outputs": [
    {
     "data": {
      "text/plain": [
       "dtype('O')"
      ]
     },
     "execution_count": 14,
     "metadata": {},
     "output_type": "execute_result"
    }
   ],
   "source": [
    "data['postal_code'].dtype"
   ]
  },
  {
   "cell_type": "code",
   "execution_count": 15,
   "metadata": {},
   "outputs": [
    {
     "data": {
      "text/plain": [
       "dtype('O')"
      ]
     },
     "execution_count": 15,
     "metadata": {},
     "output_type": "execute_result"
    }
   ],
   "source": [
    "data['model_year'] = data['model_year'].astype('object')\n",
    "data.model_year.dtype"
   ]
  },
  {
   "cell_type": "markdown",
   "metadata": {},
   "source": [
    "postal_code and model_year features are more suited to be categorical than numerical, hence changed the data type of both the features to 'object'"
   ]
  },
  {
   "cell_type": "code",
   "execution_count": 16,
   "metadata": {},
   "outputs": [
    {
     "data": {
      "text/plain": [
       "electric_range\n",
       "0      34.860725\n",
       "215     5.601327\n",
       "84      3.662886\n",
       "220     3.577288\n",
       "238     3.085990\n",
       "         ...    \n",
       "74      0.002675\n",
       "95      0.001783\n",
       "57      0.000892\n",
       "39      0.000892\n",
       "59      0.000892\n",
       "Name: proportion, Length: 101, dtype: float64"
      ]
     },
     "execution_count": 16,
     "metadata": {},
     "output_type": "execute_result"
    }
   ],
   "source": [
    "data['electric_range'].value_counts(normalize=True)*100"
   ]
  },
  {
   "cell_type": "code",
   "execution_count": 17,
   "metadata": {},
   "outputs": [
    {
     "data": {
      "text/plain": [
       "count    112152.000000\n",
       "mean         87.829651\n",
       "std         102.336645\n",
       "min           0.000000\n",
       "25%           0.000000\n",
       "50%          32.000000\n",
       "75%         208.000000\n",
       "max         337.000000\n",
       "Name: electric_range, dtype: float64"
      ]
     },
     "execution_count": 17,
     "metadata": {},
     "output_type": "execute_result"
    }
   ],
   "source": [
    "data['electric_range'].describe()"
   ]
  },
  {
   "cell_type": "code",
   "execution_count": null,
   "metadata": {},
   "outputs": [
    {
     "data": {
      "text/plain": [
       "np.float64(103.0)"
      ]
     },
     "execution_count": 18,
     "metadata": {},
     "output_type": "execute_result"
    }
   ],
   "source": [
    "electric_range_nonzero_median = data[data['electric_range'] > 0]['electric_range'].median()\n",
    "electric_range_nonzero_median"
   ]
  },
  {
   "cell_type": "code",
   "execution_count": 19,
   "metadata": {},
   "outputs": [],
   "source": [
    "data['electric_range'].replace(to_replace=0, value=electric_range_nonzero_median, inplace=True)"
   ]
  },
  {
   "cell_type": "code",
   "execution_count": 20,
   "metadata": {},
   "outputs": [
    {
     "data": {
      "text/plain": [
       "count    112152.000000\n",
       "mean        123.736197\n",
       "std          81.083472\n",
       "min           6.000000\n",
       "25%          75.000000\n",
       "50%         103.000000\n",
       "75%         208.000000\n",
       "max         337.000000\n",
       "Name: electric_range, dtype: float64"
      ]
     },
     "execution_count": 20,
     "metadata": {},
     "output_type": "execute_result"
    }
   ],
   "source": [
    "data['electric_range'].describe()"
   ]
  },
  {
   "cell_type": "code",
   "execution_count": 21,
   "metadata": {},
   "outputs": [
    {
     "data": {
      "text/plain": [
       "<Axes: ylabel='electric_range'>"
      ]
     },
     "execution_count": 21,
     "metadata": {},
     "output_type": "execute_result"
    },
    {
     "data": {
      "image/png": "[encoded data removed]",
      "text/plain": [
       "<Figure size 640x480 with 1 Axes>"
      ]
     },
     "metadata": {},
     "output_type": "display_data"
    }
   ],
   "source": [
    "sns.boxplot(data['electric_range'])"
   ]
  },
  {
   "cell_type": "markdown",
   "metadata": {},
   "source": [
    "Since more than 34% of the values are 0, it doesn't make any sense to have 0 as the electric range for an electric vehicle.\n",
    "Replaced the 0 with non-zero median"
   ]
  },
  {
   "cell_type": "code",
   "execution_count": 22,
   "metadata": {},
   "outputs": [
    {
     "data": {
      "text/plain": [
       "count    112152.000000\n",
       "mean       1793.882320\n",
       "std       10785.259118\n",
       "min           0.000000\n",
       "25%           0.000000\n",
       "50%           0.000000\n",
       "75%           0.000000\n",
       "max      845000.000000\n",
       "Name: base_msrp, dtype: float64"
      ]
     },
     "execution_count": 22,
     "metadata": {},
     "output_type": "execute_result"
    }
   ],
   "source": [
    "data['base_msrp'].describe()"
   ]
  },
  {
   "cell_type": "code",
   "execution_count": 23,
   "metadata": {},
   "outputs": [
    {
     "data": {
      "text/plain": [
       "base_msrp\n",
       "0         96.881019\n",
       "69900      1.331229\n",
       "31950      0.362009\n",
       "52900      0.189921\n",
       "32250      0.140880\n",
       "54950      0.120372\n",
       "59900      0.119481\n",
       "39995      0.105214\n",
       "36900      0.089165\n",
       "44100      0.084706\n",
       "64950      0.073115\n",
       "33950      0.069548\n",
       "45600      0.067765\n",
       "52650      0.059740\n",
       "34995      0.051716\n",
       "36800      0.044582\n",
       "55700      0.041907\n",
       "53400      0.024966\n",
       "110950     0.021400\n",
       "98950      0.020508\n",
       "81100      0.016941\n",
       "102000     0.016941\n",
       "90700      0.016050\n",
       "75095      0.014266\n",
       "184400     0.010700\n",
       "43700      0.008916\n",
       "89100      0.006242\n",
       "109000     0.006242\n",
       "91250      0.003567\n",
       "845000     0.000892\n",
       "Name: proportion, dtype: float64"
      ]
     },
     "execution_count": 23,
     "metadata": {},
     "output_type": "execute_result"
    }
   ],
   "source": [
    "data['base_msrp'].value_counts(normalize=True)*100"
   ]
  },
  {
   "cell_type": "code",
   "execution_count": 24,
   "metadata": {},
   "outputs": [
    {
     "data": {
      "text/plain": [
       "base_msrp\n",
       "69900     42.681532\n",
       "31950     11.606632\n",
       "52900      6.089194\n",
       "32250      4.516867\n",
       "54950      3.859348\n",
       "59900      3.830760\n",
       "39995      3.373356\n",
       "36900      2.858776\n",
       "44100      2.715838\n",
       "64950      2.344197\n",
       "33950      2.229846\n",
       "45600      2.172670\n",
       "52650      1.915380\n",
       "34995      1.658090\n",
       "36800      1.429388\n",
       "55700      1.343625\n",
       "53400      0.800457\n",
       "110950     0.686106\n",
       "98950      0.657519\n",
       "81100      0.543168\n",
       "102000     0.543168\n",
       "90700      0.514580\n",
       "75095      0.457404\n",
       "184400     0.343053\n",
       "43700      0.285878\n",
       "89100      0.200114\n",
       "109000     0.200114\n",
       "91250      0.114351\n",
       "845000     0.028588\n",
       "Name: proportion, dtype: float64"
      ]
     },
     "execution_count": 24,
     "metadata": {},
     "output_type": "execute_result"
    }
   ],
   "source": [
    "data[data['base_msrp'] > 0]['base_msrp'].value_counts(normalize=True)*100"
   ]
  },
  {
   "cell_type": "code",
   "execution_count": 25,
   "metadata": {},
   "outputs": [
    {
     "data": {
      "image/png": "[encoded data removed]",
      "text/plain": [
       "<Figure size 640x480 with 1 Axes>"
      ]
     },
     "metadata": {},
     "output_type": "display_data"
    },
    {
     "name": "stdout",
     "output_type": "stream",
     "text": [
      "count    112152.000000\n",
      "mean       1793.882320\n",
      "std       10785.259118\n",
      "min           0.000000\n",
      "25%           0.000000\n",
      "50%           0.000000\n",
      "75%           0.000000\n",
      "max      845000.000000\n",
      "Name: base_msrp, dtype: float64\n"
     ]
    }
   ],
   "source": [
    "sns.histplot(data['base_msrp'], kde=True)\n",
    "plt.show()\n",
    "\n",
    "print(data['base_msrp'].describe())"
   ]
  },
  {
   "cell_type": "code",
   "execution_count": 26,
   "metadata": {},
   "outputs": [
    {
     "data": {
      "text/plain": [
       "<Axes: ylabel='base_msrp'>"
      ]
     },
     "execution_count": 26,
     "metadata": {},
     "output_type": "execute_result"
    },
    {
     "data": {
      "image/png": "[encoded data removed]",
      "text/plain": [
       "<Figure size 640x480 with 1 Axes>"
      ]
     },
     "metadata": {},
     "output_type": "display_data"
    }
   ],
   "source": [
    "sns.boxplot(data['base_msrp'])"
   ]
  },
  {
   "cell_type": "code",
   "execution_count": 27,
   "metadata": {},
   "outputs": [],
   "source": [
    "#Deleting the base_msrp feature as 97% of the values are 0\n",
    "data.drop(columns='base_msrp', axis=1, inplace = True)"
   ]
  },
  {
   "cell_type": "markdown",
   "metadata": {},
   "source": [
    "My justification to drop the base_msrp feature is, even if those values are replaced by mean or median or any other statistic. There will be no variablity in the data, as the percentage of the values which need to be replaced is very high."
   ]
  },
  {
   "cell_type": "code",
   "execution_count": 28,
   "metadata": {},
   "outputs": [
    {
     "data": {
      "text/plain": [
       "array([ 1.,  2.,  3.,  4.,  5.,  6.,  7.,  8.,  9., 10., 11., 12., 13.,\n",
       "       14., 15., 16., 17., 18., 19., 20., 21., 22., 23., 24., 25., 26.,\n",
       "       27., 28., 29., 30., 31., 32., 33., 34., 35., 36., 37., 38., 39.,\n",
       "       40., 41., 42., 43., 44., 45., 46., 47., 48., 49.])"
      ]
     },
     "execution_count": 28,
     "metadata": {},
     "output_type": "execute_result"
    }
   ],
   "source": [
    "np.sort(data['legislative_district'].unique())"
   ]
  },
  {
   "cell_type": "code",
   "execution_count": 29,
   "metadata": {},
   "outputs": [
    {
     "data": {
      "text/plain": [
       "dtype('O')"
      ]
     },
     "execution_count": 29,
     "metadata": {},
     "output_type": "execute_result"
    }
   ],
   "source": [
    "# Converting data type to object\n",
    "data['legislative_district'] = data['legislative_district'].astype('object')\n",
    "data['legislative_district'].dtype"
   ]
  },
  {
   "cell_type": "code",
   "execution_count": 30,
   "metadata": {},
   "outputs": [
    {
     "data": {
      "text/plain": [
       "np.int64(0)"
      ]
     },
     "execution_count": 30,
     "metadata": {},
     "output_type": "execute_result"
    }
   ],
   "source": [
    "# No duplicate values in vehicle_id\n",
    "data['dol_vehicle_id'].duplicated().sum()"
   ]
  },
  {
   "cell_type": "code",
   "execution_count": 31,
   "metadata": {},
   "outputs": [
    {
     "data": {
      "text/plain": [
       "2020_census_tract\n",
       "53033028500    583\n",
       "53033032321    550\n",
       "53033007800    418\n",
       "53033024100    401\n",
       "53033005600    394\n",
       "              ... \n",
       "53001950302      1\n",
       "53075000100      1\n",
       "53077001300      1\n",
       "53021980100      1\n",
       "53021020403      1\n",
       "Name: count, Length: 1760, dtype: int64"
      ]
     },
     "execution_count": 31,
     "metadata": {},
     "output_type": "execute_result"
    }
   ],
   "source": [
    "data['2020_census_tract'].value_counts()"
   ]
  },
  {
   "cell_type": "code",
   "execution_count": 32,
   "metadata": {},
   "outputs": [
    {
     "data": {
      "text/plain": [
       "dtype('O')"
      ]
     },
     "execution_count": 32,
     "metadata": {},
     "output_type": "execute_result"
    }
   ],
   "source": [
    "# Converting the datatype to object \n",
    "data['2020_census_tract'] = data['2020_census_tract'].astype('object')\n",
    "data['2020_census_tract'].dtype"
   ]
  },
  {
   "cell_type": "code",
   "execution_count": 33,
   "metadata": {},
   "outputs": [
    {
     "data": {
      "text/plain": [
       "Index(['vin_(1-10)', 'county', 'city', 'state', 'postal_code', 'model_year',\n",
       "       'make', 'model', 'electric_vehicle_type',\n",
       "       'clean_alternative_fuel_vehicle_(cafv)_eligibility', 'electric_range',\n",
       "       'legislative_district', 'dol_vehicle_id', 'vehicle_location',\n",
       "       'electric_utility', '2020_census_tract'],\n",
       "      dtype='object')"
      ]
     },
     "execution_count": 33,
     "metadata": {},
     "output_type": "execute_result"
    }
   ],
   "source": [
    "data.columns"
   ]
  },
  {
   "cell_type": "code",
   "execution_count": 34,
   "metadata": {},
   "outputs": [],
   "source": [
    "data['coordinates'] = data['vehicle_location'].str.removeprefix('POINT ').str.removeprefix('(').str.removesuffix(')').str.split(' ')"
   ]
  },
  {
   "cell_type": "code",
   "execution_count": 35,
   "metadata": {},
   "outputs": [],
   "source": [
    "data['latitude'] = data['coordinates'].apply(lambda x : x[0])\n",
    "data['longitude'] = data['coordinates'].apply(lambda x : x[1])"
   ]
  },
  {
   "cell_type": "code",
   "execution_count": 36,
   "metadata": {},
   "outputs": [
    {
     "data": {
      "text/plain": [
       "latitude\n",
       "-122.13158    2914\n",
       "-122.2066     2059\n",
       "-122.1872     2001\n",
       "-122.31765    1878\n",
       "-122.12096    1851\n",
       "              ... \n",
       "-117.97378       1\n",
       "-122.86239       1\n",
       "-122.13017       1\n",
       "-119.99854       1\n",
       "-117.08742       1\n",
       "Name: count, Length: 516, dtype: int64"
      ]
     },
     "execution_count": 36,
     "metadata": {},
     "output_type": "execute_result"
    }
   ],
   "source": [
    "data['latitude'].value_counts()"
   ]
  },
  {
   "cell_type": "code",
   "execution_count": 37,
   "metadata": {},
   "outputs": [
    {
     "data": {
      "text/plain": [
       "longitude\n",
       "47.67858    2914\n",
       "47.67887    2059\n",
       "47.61001    2001\n",
       "47.70013    1878\n",
       "47.55584    1851\n",
       "            ... \n",
       "47.30036       1\n",
       "46.07142       1\n",
       "46.53072       1\n",
       "46.21092       1\n",
       "46.53906       1\n",
       "Name: count, Length: 516, dtype: int64"
      ]
     },
     "execution_count": 37,
     "metadata": {},
     "output_type": "execute_result"
    }
   ],
   "source": [
    "data['longitude'].value_counts()"
   ]
  },
  {
   "cell_type": "code",
   "execution_count": null,
   "metadata": {},
   "outputs": [],
   "source": []
  },
  {
   "cell_type": "code",
   "execution_count": null,
   "metadata": {},
   "outputs": [],
   "source": []
  },
  {
   "cell_type": "markdown",
   "metadata": {},
   "source": [
    "Univariate Analysis\n",
    "\n",
    "Non_visual Univariate Analysis"
   ]
  },
  {
   "cell_type": "code",
   "execution_count": 38,
   "metadata": {},
   "outputs": [
    {
     "data": {
      "text/html": [
       "<div>\n",
       "<style scoped>\n",
       "    .dataframe tbody tr th:only-of-type {\n",
       "        vertical-align: middle;\n",
       "    }\n",
       "\n",
       "    .dataframe tbody tr th {\n",
       "        vertical-align: top;\n",
       "    }\n",
       "\n",
       "    .dataframe thead th {\n",
       "        text-align: right;\n",
       "    }\n",
       "</style>\n",
       "<table border=\"1\" class=\"dataframe\">\n",
       "  <thead>\n",
       "    <tr style=\"text-align: right;\">\n",
       "      <th></th>\n",
       "      <th>electric_range</th>\n",
       "      <th>dol_vehicle_id</th>\n",
       "    </tr>\n",
       "  </thead>\n",
       "  <tbody>\n",
       "    <tr>\n",
       "      <th>2</th>\n",
       "      <td>73</td>\n",
       "      <td>218972519</td>\n",
       "    </tr>\n",
       "    <tr>\n",
       "      <th>3</th>\n",
       "      <td>238</td>\n",
       "      <td>186750406</td>\n",
       "    </tr>\n",
       "    <tr>\n",
       "      <th>4</th>\n",
       "      <td>26</td>\n",
       "      <td>2006714</td>\n",
       "    </tr>\n",
       "    <tr>\n",
       "      <th>5</th>\n",
       "      <td>215</td>\n",
       "      <td>475635324</td>\n",
       "    </tr>\n",
       "    <tr>\n",
       "      <th>6</th>\n",
       "      <td>75</td>\n",
       "      <td>253546023</td>\n",
       "    </tr>\n",
       "  </tbody>\n",
       "</table>\n",
       "</div>"
      ],
      "text/plain": [
       "   electric_range  dol_vehicle_id\n",
       "2              73       218972519\n",
       "3             238       186750406\n",
       "4              26         2006714\n",
       "5             215       475635324\n",
       "6              75       253546023"
      ]
     },
     "execution_count": 38,
     "metadata": {},
     "output_type": "execute_result"
    }
   ],
   "source": [
    "numerical_df = data.select_dtypes(include=['int64', 'float64'])\n",
    "numerical_df.head()"
   ]
  },
  {
   "cell_type": "code",
   "execution_count": 39,
   "metadata": {},
   "outputs": [],
   "source": [
    "# numerical_univariate_analysis function\n",
    "def numerical_univariate_analysis(num_df):\n",
    "    for column_name in num_df:\n",
    "        print(\"*\"*10, column_name, \"*\"*10)\n",
    "        print(num_df[column_name].describe())\n",
    "        print()"
   ]
  },
  {
   "cell_type": "code",
   "execution_count": 40,
   "metadata": {},
   "outputs": [
    {
     "name": "stdout",
     "output_type": "stream",
     "text": [
      "********** electric_range **********\n",
      "count    112152.000000\n",
      "mean        123.736197\n",
      "std          81.083472\n",
      "min           6.000000\n",
      "25%          75.000000\n",
      "50%         103.000000\n",
      "75%         208.000000\n",
      "max         337.000000\n",
      "Name: electric_range, dtype: float64\n",
      "\n",
      "********** dol_vehicle_id **********\n",
      "count    1.121520e+05\n",
      "mean     1.994712e+08\n",
      "std      9.401842e+07\n",
      "min      4.777000e+03\n",
      "25%      1.484164e+08\n",
      "50%      1.923916e+08\n",
      "75%      2.191885e+08\n",
      "max      4.792548e+08\n",
      "Name: dol_vehicle_id, dtype: float64\n",
      "\n"
     ]
    }
   ],
   "source": [
    "numerical_univariate_analysis(numerical_df)"
   ]
  },
  {
   "cell_type": "code",
   "execution_count": 41,
   "metadata": {},
   "outputs": [
    {
     "data": {
      "text/plain": [
       "Index(['vin_(1-10)', 'county', 'city', 'state', 'postal_code', 'model_year',\n",
       "       'make', 'model', 'electric_vehicle_type',\n",
       "       'clean_alternative_fuel_vehicle_(cafv)_eligibility',\n",
       "       'legislative_district', 'vehicle_location', 'electric_utility',\n",
       "       '2020_census_tract', 'coordinates', 'latitude', 'longitude'],\n",
       "      dtype='object')"
      ]
     },
     "execution_count": 41,
     "metadata": {},
     "output_type": "execute_result"
    }
   ],
   "source": [
    "data.select_dtypes(include='object').columns"
   ]
  },
  {
   "cell_type": "code",
   "execution_count": 42,
   "metadata": {},
   "outputs": [],
   "source": [
    "discrete_columns = ['vin_(1-10)', 'county', 'city', 'state', 'postal_code', 'model_year',\n",
    "       'make', 'model', 'electric_vehicle_type',\n",
    "       'clean_alternative_fuel_vehicle_(cafv)_eligibility',\n",
    "       'legislative_district', 'electric_utility',\n",
    "       '2020_census_tract']"
   ]
  },
  {
   "cell_type": "code",
   "execution_count": 43,
   "metadata": {},
   "outputs": [
    {
     "data": {
      "text/html": [
       "<div>\n",
       "<style scoped>\n",
       "    .dataframe tbody tr th:only-of-type {\n",
       "        vertical-align: middle;\n",
       "    }\n",
       "\n",
       "    .dataframe tbody tr th {\n",
       "        vertical-align: top;\n",
       "    }\n",
       "\n",
       "    .dataframe thead th {\n",
       "        text-align: right;\n",
       "    }\n",
       "</style>\n",
       "<table border=\"1\" class=\"dataframe\">\n",
       "  <thead>\n",
       "    <tr style=\"text-align: right;\">\n",
       "      <th></th>\n",
       "      <th>vin_(1-10)</th>\n",
       "      <th>county</th>\n",
       "      <th>city</th>\n",
       "      <th>state</th>\n",
       "      <th>postal_code</th>\n",
       "      <th>model_year</th>\n",
       "      <th>make</th>\n",
       "      <th>model</th>\n",
       "      <th>electric_vehicle_type</th>\n",
       "      <th>clean_alternative_fuel_vehicle_(cafv)_eligibility</th>\n",
       "      <th>legislative_district</th>\n",
       "      <th>electric_utility</th>\n",
       "      <th>2020_census_tract</th>\n",
       "    </tr>\n",
       "  </thead>\n",
       "  <tbody>\n",
       "    <tr>\n",
       "      <th>2</th>\n",
       "      <td>JN1AZ0CP8B</td>\n",
       "      <td>Yakima</td>\n",
       "      <td>Yakima</td>\n",
       "      <td>WA</td>\n",
       "      <td>98901</td>\n",
       "      <td>2011</td>\n",
       "      <td>NISSAN</td>\n",
       "      <td>LEAF</td>\n",
       "      <td>Battery Electric Vehicle (BEV)</td>\n",
       "      <td>Clean Alternative Fuel Vehicle Eligible</td>\n",
       "      <td>15.0</td>\n",
       "      <td>PACIFICORP</td>\n",
       "      <td>53077001602</td>\n",
       "    </tr>\n",
       "    <tr>\n",
       "      <th>3</th>\n",
       "      <td>1G1FW6S08H</td>\n",
       "      <td>Skagit</td>\n",
       "      <td>Concrete</td>\n",
       "      <td>WA</td>\n",
       "      <td>98237</td>\n",
       "      <td>2017</td>\n",
       "      <td>CHEVROLET</td>\n",
       "      <td>BOLT EV</td>\n",
       "      <td>Battery Electric Vehicle (BEV)</td>\n",
       "      <td>Clean Alternative Fuel Vehicle Eligible</td>\n",
       "      <td>39.0</td>\n",
       "      <td>PUGET SOUND ENERGY INC</td>\n",
       "      <td>53057951101</td>\n",
       "    </tr>\n",
       "    <tr>\n",
       "      <th>4</th>\n",
       "      <td>3FA6P0SU1K</td>\n",
       "      <td>Snohomish</td>\n",
       "      <td>Everett</td>\n",
       "      <td>WA</td>\n",
       "      <td>98201</td>\n",
       "      <td>2019</td>\n",
       "      <td>FORD</td>\n",
       "      <td>FUSION</td>\n",
       "      <td>Plug-in Hybrid Electric Vehicle (PHEV)</td>\n",
       "      <td>Not eligible due to low battery range</td>\n",
       "      <td>38.0</td>\n",
       "      <td>PUGET SOUND ENERGY INC</td>\n",
       "      <td>53061041500</td>\n",
       "    </tr>\n",
       "    <tr>\n",
       "      <th>5</th>\n",
       "      <td>5YJ3E1EB5J</td>\n",
       "      <td>Snohomish</td>\n",
       "      <td>Bothell</td>\n",
       "      <td>WA</td>\n",
       "      <td>98021</td>\n",
       "      <td>2018</td>\n",
       "      <td>TESLA</td>\n",
       "      <td>MODEL 3</td>\n",
       "      <td>Battery Electric Vehicle (BEV)</td>\n",
       "      <td>Clean Alternative Fuel Vehicle Eligible</td>\n",
       "      <td>1.0</td>\n",
       "      <td>PUGET SOUND ENERGY INC</td>\n",
       "      <td>53061051916</td>\n",
       "    </tr>\n",
       "    <tr>\n",
       "      <th>6</th>\n",
       "      <td>1N4AZ0CP4D</td>\n",
       "      <td>Snohomish</td>\n",
       "      <td>Everett</td>\n",
       "      <td>WA</td>\n",
       "      <td>98203</td>\n",
       "      <td>2013</td>\n",
       "      <td>NISSAN</td>\n",
       "      <td>LEAF</td>\n",
       "      <td>Battery Electric Vehicle (BEV)</td>\n",
       "      <td>Clean Alternative Fuel Vehicle Eligible</td>\n",
       "      <td>38.0</td>\n",
       "      <td>PUGET SOUND ENERGY INC</td>\n",
       "      <td>53061040900</td>\n",
       "    </tr>\n",
       "  </tbody>\n",
       "</table>\n",
       "</div>"
      ],
      "text/plain": [
       "   vin_(1-10)     county      city state postal_code model_year       make  \\\n",
       "2  JN1AZ0CP8B     Yakima    Yakima    WA       98901       2011     NISSAN   \n",
       "3  1G1FW6S08H     Skagit  Concrete    WA       98237       2017  CHEVROLET   \n",
       "4  3FA6P0SU1K  Snohomish   Everett    WA       98201       2019       FORD   \n",
       "5  5YJ3E1EB5J  Snohomish   Bothell    WA       98021       2018      TESLA   \n",
       "6  1N4AZ0CP4D  Snohomish   Everett    WA       98203       2013     NISSAN   \n",
       "\n",
       "     model                   electric_vehicle_type  \\\n",
       "2     LEAF          Battery Electric Vehicle (BEV)   \n",
       "3  BOLT EV          Battery Electric Vehicle (BEV)   \n",
       "4   FUSION  Plug-in Hybrid Electric Vehicle (PHEV)   \n",
       "5  MODEL 3          Battery Electric Vehicle (BEV)   \n",
       "6     LEAF          Battery Electric Vehicle (BEV)   \n",
       "\n",
       "  clean_alternative_fuel_vehicle_(cafv)_eligibility legislative_district  \\\n",
       "2           Clean Alternative Fuel Vehicle Eligible                 15.0   \n",
       "3           Clean Alternative Fuel Vehicle Eligible                 39.0   \n",
       "4             Not eligible due to low battery range                 38.0   \n",
       "5           Clean Alternative Fuel Vehicle Eligible                  1.0   \n",
       "6           Clean Alternative Fuel Vehicle Eligible                 38.0   \n",
       "\n",
       "         electric_utility 2020_census_tract  \n",
       "2              PACIFICORP       53077001602  \n",
       "3  PUGET SOUND ENERGY INC       53057951101  \n",
       "4  PUGET SOUND ENERGY INC       53061041500  \n",
       "5  PUGET SOUND ENERGY INC       53061051916  \n",
       "6  PUGET SOUND ENERGY INC       53061040900  "
      ]
     },
     "execution_count": 43,
     "metadata": {},
     "output_type": "execute_result"
    }
   ],
   "source": [
    "discrete_df = data[discrete_columns]\n",
    "discrete_df.head()"
   ]
  },
  {
   "cell_type": "code",
   "execution_count": 44,
   "metadata": {},
   "outputs": [],
   "source": [
    "# discrete_univariate_analysis function\n",
    "\n",
    "def discrete_univariate_analysis(discrete_df):\n",
    "    for column_name in discrete_df:\n",
    "        print(\"*\"*10, column_name, \"*\"*10)\n",
    "        print(discrete_df[column_name].agg(['count', 'nunique', 'unique']))\n",
    "        print('Value Counts: \\n', discrete_df[column_name].value_counts())\n",
    "        print()"
   ]
  },
  {
   "cell_type": "code",
   "execution_count": 45,
   "metadata": {},
   "outputs": [
    {
     "name": "stdout",
     "output_type": "stream",
     "text": [
      "********** vin_(1-10) **********\n",
      "count                                                 112152\n",
      "nunique                                                 7522\n",
      "unique     [JN1AZ0CP8B, 1G1FW6S08H, 3FA6P0SU1K, 5YJ3E1EB5...\n",
      "Name: vin_(1-10), dtype: object\n",
      "Value Counts: \n",
      " vin_(1-10)\n",
      "5YJYGDEE9M    471\n",
      "5YJYGDEE0M    463\n",
      "5YJYGDEE7M    447\n",
      "5YJYGDEE8M    446\n",
      "5YJYGDEE2M    435\n",
      "             ... \n",
      "WBA5P9C03M      1\n",
      "YV4BR0CMXL      1\n",
      "WA12AAGE0N      1\n",
      "1G1RD6S58K      1\n",
      "WA132BFZ9N      1\n",
      "Name: count, Length: 7522, dtype: int64\n",
      "\n",
      "********** county **********\n",
      "count                                                 112152\n",
      "nunique                                                   39\n",
      "unique     [Yakima, Skagit, Snohomish, Island, Thurston, ...\n",
      "Name: county, dtype: object\n",
      "Value Counts: \n",
      " county\n",
      "King            58980\n",
      "Snohomish       12412\n",
      "Pierce           8525\n",
      "Clark            6681\n",
      "Thurston         4109\n",
      "Kitsap           3828\n",
      "Whatcom          2839\n",
      "Spokane          2785\n",
      "Benton           1376\n",
      "Island           1298\n",
      "Skagit           1228\n",
      "Clallam           728\n",
      "San Juan          717\n",
      "Jefferson         698\n",
      "Chelan            654\n",
      "Yakima            617\n",
      "Cowlitz           569\n",
      "Mason             547\n",
      "Lewis             431\n",
      "Grays Harbor      402\n",
      "Kittitas          392\n",
      "Franklin          365\n",
      "Grant             335\n",
      "Walla Walla       312\n",
      "Douglas           221\n",
      "Whitman           177\n",
      "Klickitat         175\n",
      "Okanogan          149\n",
      "Pacific           145\n",
      "Skamania          139\n",
      "Stevens            91\n",
      "Asotin             48\n",
      "Wahkiakum          39\n",
      "Adams              34\n",
      "Pend Oreille       32\n",
      "Lincoln            30\n",
      "Ferry              27\n",
      "Columbia           13\n",
      "Garfield            4\n",
      "Name: count, dtype: int64\n",
      "\n",
      "********** city **********\n",
      "count                                                 112152\n",
      "nunique                                                  435\n",
      "unique     [Yakima, Concrete, Everett, Bothell, Mukilteo,...\n",
      "Name: city, dtype: object\n",
      "Value Counts: \n",
      " city\n",
      "Seattle      20295\n",
      "Bellevue      5919\n",
      "Redmond       4199\n",
      "Vancouver     4013\n",
      "Kirkland      3598\n",
      "             ...  \n",
      "Gifford          1\n",
      "Prescott         1\n",
      "Carrolls         1\n",
      "Mabton           1\n",
      "Uniontown        1\n",
      "Name: count, Length: 435, dtype: int64\n",
      "\n",
      "********** state **********\n",
      "count      112152\n",
      "nunique         1\n",
      "unique       [WA]\n",
      "Name: state, dtype: object\n",
      "Value Counts: \n",
      " state\n",
      "WA    112152\n",
      "Name: count, dtype: int64\n",
      "\n",
      "********** postal_code **********\n",
      "count                                                 112152\n",
      "nunique                                                  516\n",
      "unique     [98901, 98237, 98201, 98021, 98203, 98275, 982...\n",
      "Name: postal_code, dtype: object\n",
      "Value Counts: \n",
      " postal_code\n",
      "98052    2914\n",
      "98033    2059\n",
      "98004    2001\n",
      "98115    1878\n",
      "98006    1851\n",
      "         ... \n",
      "99032       1\n",
      "98609       1\n",
      "98336       1\n",
      "98935       1\n",
      "99179       1\n",
      "Name: count, Length: 516, dtype: int64\n",
      "\n",
      "********** model_year **********\n",
      "count                                                 112152\n",
      "nunique                                                   20\n",
      "unique     [2011, 2017, 2019, 2018, 2013, 2016, 2020, 202...\n",
      "Name: model_year, dtype: object\n",
      "Value Counts: \n",
      " model_year\n",
      "2022    26455\n",
      "2021    18277\n",
      "2018    14190\n",
      "2020    10998\n",
      "2019    10216\n",
      "2017     8598\n",
      "2016     5709\n",
      "2015     4918\n",
      "2013     4669\n",
      "2014     3665\n",
      "2023     1863\n",
      "2012     1695\n",
      "2011      835\n",
      "2010       24\n",
      "2008       23\n",
      "2000       10\n",
      "1999        3\n",
      "2002        2\n",
      "1997        1\n",
      "1998        1\n",
      "Name: count, dtype: int64\n",
      "\n",
      "********** make **********\n",
      "count                                                 112152\n",
      "nunique                                                   34\n",
      "unique     [NISSAN, CHEVROLET, FORD, TESLA, KIA, AUDI, BM...\n",
      "Name: make, dtype: object\n",
      "Value Counts: \n",
      " make\n",
      "TESLA             51883\n",
      "NISSAN            12846\n",
      "CHEVROLET         10140\n",
      "FORD               5780\n",
      "BMW                4660\n",
      "KIA                4469\n",
      "TOYOTA             4368\n",
      "VOLKSWAGEN         2507\n",
      "AUDI               2320\n",
      "VOLVO              2256\n",
      "CHRYSLER           1780\n",
      "HYUNDAI            1407\n",
      "JEEP               1143\n",
      "RIVIAN              883\n",
      "FIAT                820\n",
      "PORSCHE             817\n",
      "HONDA               788\n",
      "MINI                631\n",
      "MITSUBISHI          585\n",
      "POLESTAR            557\n",
      "MERCEDES-BENZ       503\n",
      "SMART               271\n",
      "JAGUAR              218\n",
      "LINCOLN             167\n",
      "CADILLAC            108\n",
      "LUCID MOTORS         65\n",
      "SUBARU               59\n",
      "LAND ROVER           38\n",
      "LEXUS                33\n",
      "FISKER               19\n",
      "GENESIS              18\n",
      "AZURE DYNAMICS        7\n",
      "TH!NK                 3\n",
      "BENTLEY               3\n",
      "Name: count, dtype: int64\n",
      "\n",
      "********** model **********\n",
      "count                                                 112152\n",
      "nunique                                                  114\n",
      "unique     [LEAF, BOLT EV, FUSION, MODEL 3, SOUL, Q5 E, M...\n",
      "Name: model, dtype: object\n",
      "Value Counts: \n",
      " model\n",
      "MODEL 3        23042\n",
      "MODEL Y        17086\n",
      "LEAF           12846\n",
      "MODEL S         7346\n",
      "BOLT EV         4895\n",
      "               ...  \n",
      "745LE              2\n",
      "SOLTERRA           1\n",
      "S-10 PICKUP        1\n",
      "918                1\n",
      "FLYING SPUR        1\n",
      "Name: count, Length: 114, dtype: int64\n",
      "\n",
      "********** electric_vehicle_type **********\n",
      "count                                                 112152\n",
      "nunique                                                    2\n",
      "unique     [Battery Electric Vehicle (BEV), Plug-in Hybri...\n",
      "Name: electric_vehicle_type, dtype: object\n",
      "Value Counts: \n",
      " electric_vehicle_type\n",
      "Battery Electric Vehicle (BEV)            85732\n",
      "Plug-in Hybrid Electric Vehicle (PHEV)    26420\n",
      "Name: count, dtype: int64\n",
      "\n",
      "********** clean_alternative_fuel_vehicle_(cafv)_eligibility **********\n",
      "count                                                 112152\n",
      "nunique                                                    3\n",
      "unique     [Clean Alternative Fuel Vehicle Eligible, Not ...\n",
      "Name: clean_alternative_fuel_vehicle_(cafv)_eligibility, dtype: object\n",
      "Value Counts: \n",
      " clean_alternative_fuel_vehicle_(cafv)_eligibility\n",
      "Clean Alternative Fuel Vehicle Eligible                         58395\n",
      "Eligibility unknown as battery range has not been researched    39097\n",
      "Not eligible due to low battery range                           14660\n",
      "Name: count, dtype: int64\n",
      "\n",
      "********** legislative_district **********\n",
      "count                                                 112152\n",
      "nunique                                                   49\n",
      "unique     [15.0, 39.0, 38.0, 1.0, 21.0, 10.0, 40.0, 22.0...\n",
      "Name: legislative_district, dtype: object\n",
      "Value Counts: \n",
      " legislative_district\n",
      "41.0    7602\n",
      "45.0    7112\n",
      "48.0    6460\n",
      "36.0    5251\n",
      "46.0    4721\n",
      "1.0     4714\n",
      "5.0     4691\n",
      "43.0    4620\n",
      "37.0    3554\n",
      "34.0    3477\n",
      "18.0    3024\n",
      "22.0    2772\n",
      "32.0    2707\n",
      "11.0    2702\n",
      "44.0    2670\n",
      "23.0    2614\n",
      "21.0    2613\n",
      "40.0    2599\n",
      "26.0    2260\n",
      "33.0    2112\n",
      "10.0    2051\n",
      "31.0    1908\n",
      "17.0    1907\n",
      "47.0    1875\n",
      "24.0    1661\n",
      "27.0    1651\n",
      "42.0    1625\n",
      "35.0    1613\n",
      "39.0    1574\n",
      "49.0    1573\n",
      "28.0    1447\n",
      "30.0    1267\n",
      "2.0     1225\n",
      "8.0     1157\n",
      "38.0    1065\n",
      "25.0    1049\n",
      "6.0     1041\n",
      "12.0    1004\n",
      "20.0     973\n",
      "4.0      845\n",
      "13.0     748\n",
      "14.0     720\n",
      "29.0     692\n",
      "19.0     669\n",
      "16.0     611\n",
      "9.0      606\n",
      "3.0      557\n",
      "7.0      486\n",
      "15.0     277\n",
      "Name: count, dtype: int64\n",
      "\n",
      "********** electric_utility **********\n",
      "count                                                 112152\n",
      "nunique                                                   73\n",
      "unique     [PACIFICORP, PUGET SOUND ENERGY INC, PUD NO 2 ...\n",
      "Name: electric_utility, dtype: object\n",
      "Value Counts: \n",
      " electric_utility\n",
      "PUGET SOUND ENERGY INC||CITY OF TACOMA - (WA)                                               40231\n",
      "PUGET SOUND ENERGY INC                                                                      22166\n",
      "CITY OF SEATTLE - (WA)|CITY OF TACOMA - (WA)                                                21439\n",
      "BONNEVILLE POWER ADMINISTRATION||PUD NO 1 OF CLARK COUNTY - (WA)                             6522\n",
      "BONNEVILLE POWER ADMINISTRATION||CITY OF TACOMA - (WA)||PENINSULA LIGHT COMPANY              5049\n",
      "                                                                                            ...  \n",
      "CITY OF SEATTLE - (WA)                                                                          1\n",
      "BONNEVILLE POWER ADMINISTRATION||PUD NO 1 OF ASOTIN COUNTY                                      1\n",
      "BONNEVILLE POWER ADMINISTRATION||PENINSULA LIGHT COMPANY                                        1\n",
      "BONNEVILLE POWER ADMINISTRATION||NESPELEM VALLEY ELEC COOP, INC                                 1\n",
      "BONNEVILLE POWER ADMINISTRATION||PUD NO 1 OF CLALLAM COUNTY|PUD NO 1 OF JEFFERSON COUNTY        1\n",
      "Name: count, Length: 73, dtype: int64\n",
      "\n",
      "********** 2020_census_tract **********\n",
      "count                                                 112152\n",
      "nunique                                                 1760\n",
      "unique     [53077001602, 53057951101, 53061041500, 530610...\n",
      "Name: 2020_census_tract, dtype: object\n",
      "Value Counts: \n",
      " 2020_census_tract\n",
      "53033028500    583\n",
      "53033032321    550\n",
      "53033007800    418\n",
      "53033024100    401\n",
      "53033005600    394\n",
      "              ... \n",
      "53001950302      1\n",
      "53075000100      1\n",
      "53077001300      1\n",
      "53021980100      1\n",
      "53021020403      1\n",
      "Name: count, Length: 1760, dtype: int64\n",
      "\n"
     ]
    }
   ],
   "source": [
    "discrete_univariate_analysis(discrete_df)"
   ]
  },
  {
   "cell_type": "markdown",
   "metadata": {},
   "source": [
    "Univariate - Visual Analysis"
   ]
  },
  {
   "cell_type": "markdown",
   "metadata": {},
   "source": [
    "1. Distribution of Electric Range"
   ]
  },
  {
   "cell_type": "code",
   "execution_count": 46,
   "metadata": {},
   "outputs": [
    {
     "data": {
      "image/png": "[encoded data removed]",
      "text/plain": [
       "<Figure size 600x300 with 1 Axes>"
      ]
     },
     "metadata": {},
     "output_type": "display_data"
    },
    {
     "data": {
      "image/png": "[encoded data removed]",
      "text/plain": [
       "<Figure size 600x300 with 1 Axes>"
      ]
     },
     "metadata": {},
     "output_type": "display_data"
    }
   ],
   "source": [
    "# Hiatogram\n",
    "plt.figure(figsize=(6,3))\n",
    "sns.histplot(data['electric_range'],bins=20, kde=True,edgecolor='black')\n",
    "plt.title('Distribution of the Electric Range')\n",
    "plt.xlabel('Electric Range')\n",
    "plt.ylabel('Frequency')\n",
    "plt.grid(True)\n",
    "plt.tight_layout()\n",
    "plt.show()\n",
    "\n",
    "# Box Plot\n",
    "plt.figure(figsize=(6, 3))\n",
    "sns.boxplot(x = data['electric_range'], width=0.3, fliersize=5)\n",
    "plt.title('Box Plot for electric_range')\n",
    "plt.xlabel('Values')\n",
    "plt.ylabel('Distribution')\n",
    "plt.tight_layout()\n",
    "plt.show()"
   ]
  },
  {
   "cell_type": "markdown",
   "metadata": {},
   "source": [
    "There are no outliers observed in the electric range column. NOt many vehicles have more range."
   ]
  },
  {
   "cell_type": "markdown",
   "metadata": {},
   "source": [
    "2. Top 10 Counties W.R.T number of electric vehicles"
   ]
  },
  {
   "cell_type": "code",
   "execution_count": 47,
   "metadata": {},
   "outputs": [
    {
     "data": {
      "text/plain": [
       "county\n",
       "King         58980\n",
       "Snohomish    12412\n",
       "Pierce        8525\n",
       "Clark         6681\n",
       "Thurston      4109\n",
       "Kitsap        3828\n",
       "Whatcom       2839\n",
       "Spokane       2785\n",
       "Benton        1376\n",
       "Island        1298\n",
       "Name: count, dtype: int64"
      ]
     },
     "execution_count": 47,
     "metadata": {},
     "output_type": "execute_result"
    }
   ],
   "source": [
    "top_10_counties = data['county'].value_counts().head(10)\n",
    "top_10_counties"
   ]
  },
  {
   "cell_type": "code",
   "execution_count": 48,
   "metadata": {},
   "outputs": [
    {
     "data": {
      "image/png": "[encoded data removed]",
      "text/plain": [
       "<Figure size 800x300 with 1 Axes>"
      ]
     },
     "metadata": {},
     "output_type": "display_data"
    }
   ],
   "source": [
    "plt.figure(figsize=(8,3))\n",
    "sns.barplot(x=top_10_counties.values, y=top_10_counties.index, palette='viridis')\n",
    "plt.title(\"Top 10 Counties\")\n",
    "plt.xlabel(\"Number of Electric Vehicles\")\n",
    "plt.ylabel(\"Counties\")\n",
    "plt.show()"
   ]
  },
  {
   "cell_type": "markdown",
   "metadata": {},
   "source": [
    "It can be observed that 'King' is top county having more number of electric vehicles, followed by Snohomish and Pierce. 10th county is ISland"
   ]
  },
  {
   "cell_type": "markdown",
   "metadata": {},
   "source": [
    "3. Top 10 Cities"
   ]
  },
  {
   "cell_type": "code",
   "execution_count": 49,
   "metadata": {},
   "outputs": [
    {
     "data": {
      "text/plain": [
       "city\n",
       "Seattle      20295\n",
       "Bellevue      5919\n",
       "Redmond       4199\n",
       "Vancouver     4013\n",
       "Kirkland      3598\n",
       "Bothell       3334\n",
       "Sammamish     3291\n",
       "Renton        2777\n",
       "Olympia       2729\n",
       "Tacoma        2375\n",
       "Name: count, dtype: int64"
      ]
     },
     "execution_count": 49,
     "metadata": {},
     "output_type": "execute_result"
    }
   ],
   "source": [
    "top_10_cities = data['city'].value_counts().head(10)\n",
    "top_10_cities"
   ]
  },
  {
   "cell_type": "code",
   "execution_count": 50,
   "metadata": {},
   "outputs": [
    {
     "data": {
      "image/png": "[encoded data removed]",
      "text/plain": [
       "<Figure size 800x300 with 1 Axes>"
      ]
     },
     "metadata": {},
     "output_type": "display_data"
    }
   ],
   "source": [
    "plt.figure(figsize=(8,3))\n",
    "sns.barplot(x=top_10_cities.values, y=top_10_cities.index, palette='dark')\n",
    "plt.title(\"Top 10 Cities\")\n",
    "plt.xlabel(\"Number of Electric Vehicles\")\n",
    "plt.ylabel(\"Counties\")\n",
    "plt.show()"
   ]
  },
  {
   "cell_type": "markdown",
   "metadata": {},
   "source": [
    "'Seattle' is top city having more number of electric vehicles, followed by Bellevue and Redmond. 10th county is Tacoma"
   ]
  },
  {
   "cell_type": "markdown",
   "metadata": {},
   "source": [
    "4. Model Year"
   ]
  },
  {
   "cell_type": "code",
   "execution_count": 51,
   "metadata": {},
   "outputs": [
    {
     "data": {
      "text/plain": [
       "model_year\n",
       "2022    26455\n",
       "2021    18277\n",
       "2018    14190\n",
       "2020    10998\n",
       "2019    10216\n",
       "2017     8598\n",
       "2016     5709\n",
       "2015     4918\n",
       "2013     4669\n",
       "2014     3665\n",
       "2023     1863\n",
       "2012     1695\n",
       "2011      835\n",
       "2010       24\n",
       "2008       23\n",
       "2000       10\n",
       "1999        3\n",
       "2002        2\n",
       "1997        1\n",
       "1998        1\n",
       "Name: count, dtype: int64"
      ]
     },
     "execution_count": 51,
     "metadata": {},
     "output_type": "execute_result"
    }
   ],
   "source": [
    "model_year = data['model_year'].value_counts()\n",
    "model_year"
   ]
  },
  {
   "cell_type": "code",
   "execution_count": 52,
   "metadata": {},
   "outputs": [
    {
     "data": {
      "image/png": "[encoded data removed]",
      "text/plain": [
       "<Figure size 800x300 with 1 Axes>"
      ]
     },
     "metadata": {},
     "output_type": "display_data"
    }
   ],
   "source": [
    "plt.figure(figsize=(8,3))\n",
    "sns.barplot(model_year, palette='dark')\n",
    "plt.title(\"Model Year\")\n",
    "plt.xlabel(\"Year\")\n",
    "plt.ylabel(\"Number of Electric Vehicles\")\n",
    "plt.xticks(rotation=90)\n",
    "plt.show()"
   ]
  },
  {
   "cell_type": "markdown",
   "metadata": {},
   "source": [
    "More Electric vehicles have been manufactures in 2022, followed by 2021 and 2018. Least being 2011. Significant increase in the manufacturing of the electric vehicles can be observed over the years."
   ]
  },
  {
   "cell_type": "markdown",
   "metadata": {},
   "source": [
    "5. Top 5 Models"
   ]
  },
  {
   "cell_type": "code",
   "execution_count": 53,
   "metadata": {},
   "outputs": [
    {
     "data": {
      "text/plain": [
       "model\n",
       "MODEL 3    23042\n",
       "MODEL Y    17086\n",
       "LEAF       12846\n",
       "MODEL S     7346\n",
       "BOLT EV     4895\n",
       "Name: count, dtype: int64"
      ]
     },
     "execution_count": 53,
     "metadata": {},
     "output_type": "execute_result"
    }
   ],
   "source": [
    "top5_models = data['model'].value_counts().head(5)\n",
    "top5_models"
   ]
  },
  {
   "cell_type": "code",
   "execution_count": 54,
   "metadata": {},
   "outputs": [
    {
     "data": {
      "image/png": "[encoded data removed]",
      "text/plain": [
       "<Figure size 800x300 with 1 Axes>"
      ]
     },
     "metadata": {},
     "output_type": "display_data"
    }
   ],
   "source": [
    "plt.figure(figsize=(8,3))\n",
    "sns.barplot(x=top5_models.values, y=top5_models.index, palette='hls')\n",
    "plt.title(\"Top 5 Models\")\n",
    "plt.xlabel(\"Number of Electric Vehicles\")\n",
    "plt.ylabel(\"Models\")\n",
    "plt.show()"
   ]
  },
  {
   "cell_type": "markdown",
   "metadata": {},
   "source": [
    "There more Model 3 electric vehicles followed by Model Y in top 5."
   ]
  },
  {
   "cell_type": "markdown",
   "metadata": {},
   "source": [
    "6. Top 10 makers"
   ]
  },
  {
   "cell_type": "code",
   "execution_count": 55,
   "metadata": {},
   "outputs": [
    {
     "data": {
      "text/plain": [
       "make\n",
       "TESLA         51883\n",
       "NISSAN        12846\n",
       "CHEVROLET     10140\n",
       "FORD           5780\n",
       "BMW            4660\n",
       "KIA            4469\n",
       "TOYOTA         4368\n",
       "VOLKSWAGEN     2507\n",
       "AUDI           2320\n",
       "VOLVO          2256\n",
       "Name: count, dtype: int64"
      ]
     },
     "execution_count": 55,
     "metadata": {},
     "output_type": "execute_result"
    }
   ],
   "source": [
    "top_10_makers = data['make'].value_counts().head(10)\n",
    "top_10_makers"
   ]
  },
  {
   "cell_type": "code",
   "execution_count": 56,
   "metadata": {},
   "outputs": [
    {
     "data": {
      "image/png": "[encoded data removed]",
      "text/plain": [
       "<Figure size 800x300 with 1 Axes>"
      ]
     },
     "metadata": {},
     "output_type": "display_data"
    }
   ],
   "source": [
    "plt.figure(figsize=(8,3))\n",
    "sns.barplot(x=top_10_makers.values, y=top_10_makers.index, palette='dark')\n",
    "plt.title(\"Top 10 Makers\")\n",
    "plt.xlabel(\"Number of Electric Vehicles\")\n",
    "plt.ylabel(\"Makers\")\n",
    "plt.show()"
   ]
  },
  {
   "cell_type": "markdown",
   "metadata": {},
   "source": [
    "Telsa makes, highest number of electric vehicles followed by Nissan and 10th being Volvo"
   ]
  },
  {
   "cell_type": "markdown",
   "metadata": {},
   "source": [
    "7. Electric Vehicle Type"
   ]
  },
  {
   "cell_type": "code",
   "execution_count": 57,
   "metadata": {},
   "outputs": [
    {
     "data": {
      "text/plain": [
       "electric_vehicle_type\n",
       "Battery Electric Vehicle (BEV)            0.764427\n",
       "Plug-in Hybrid Electric Vehicle (PHEV)    0.235573\n",
       "Name: proportion, dtype: float64"
      ]
     },
     "execution_count": 57,
     "metadata": {},
     "output_type": "execute_result"
    }
   ],
   "source": [
    "data['electric_vehicle_type'].value_counts(normalize=True)"
   ]
  },
  {
   "cell_type": "code",
   "execution_count": 58,
   "metadata": {},
   "outputs": [
    {
     "data": {
      "image/png": "[encoded data removed]",
      "text/plain": [
       "<Figure size 600x300 with 1 Axes>"
      ]
     },
     "metadata": {},
     "output_type": "display_data"
    }
   ],
   "source": [
    "plt.figure(figsize=(6,3))\n",
    "data['electric_vehicle_type'].value_counts().plot(kind='pie', autopct='%1.1f%%')\n",
    "plt.title('Distribution of Electric Vehicle Types')\n",
    "plt.show()"
   ]
  },
  {
   "cell_type": "markdown",
   "metadata": {},
   "source": [
    "There Seems to be more Battery Vehicles than Hybrid vehicles in the market."
   ]
  },
  {
   "cell_type": "markdown",
   "metadata": {},
   "source": [
    "8. Clean Alternative Fuel Vehicle(cafv) Eligibility"
   ]
  },
  {
   "cell_type": "code",
   "execution_count": 59,
   "metadata": {},
   "outputs": [
    {
     "data": {
      "text/plain": [
       "clean_alternative_fuel_vehicle_(cafv)_eligibility\n",
       "Clean Alternative Fuel Vehicle Eligible                         52.067730\n",
       "Eligibility unknown as battery range has not been researched    34.860725\n",
       "Not eligible due to low battery range                           13.071546\n",
       "Name: proportion, dtype: float64"
      ]
     },
     "execution_count": 59,
     "metadata": {},
     "output_type": "execute_result"
    }
   ],
   "source": [
    "data['clean_alternative_fuel_vehicle_(cafv)_eligibility'].value_counts(normalize=True)*100"
   ]
  },
  {
   "cell_type": "code",
   "execution_count": 60,
   "metadata": {},
   "outputs": [
    {
     "data": {
      "image/png": "[encoded data removed]",
      "text/plain": [
       "<Figure size 600x300 with 1 Axes>"
      ]
     },
     "metadata": {},
     "output_type": "display_data"
    }
   ],
   "source": [
    "plt.figure(figsize=(6,3))\n",
    "data['clean_alternative_fuel_vehicle_(cafv)_eligibility'].value_counts().plot(kind='pie', autopct='%1.1f%%')\n",
    "plt.title('Distribution of Clean Alternative Fuel Vehicle(cafv) Eligibility')\n",
    "plt.show()"
   ]
  },
  {
   "cell_type": "markdown",
   "metadata": {},
   "source": [
    "Approximately 52% of the vehicles are eligible for Clean Alternative Fuel Vehicle incentives."
   ]
  },
  {
   "cell_type": "markdown",
   "metadata": {},
   "source": [
    "Bivariate Analysis"
   ]
  },
  {
   "cell_type": "markdown",
   "metadata": {},
   "source": [
    "Categorical vs Numerical"
   ]
  },
  {
   "cell_type": "markdown",
   "metadata": {},
   "source": [
    "1. Electric_range vs Make"
   ]
  },
  {
   "cell_type": "code",
   "execution_count": 61,
   "metadata": {},
   "outputs": [
    {
     "data": {
      "text/plain": [
       "make\n",
       "JAGUAR          218.977064\n",
       "TESLA           170.465894\n",
       "POLESTAR        125.639138\n",
       "CHEVROLET       124.499408\n",
       "HYUNDAI         109.249467\n",
       "KIA             107.441262\n",
       "VOLKSWAGEN      104.607499\n",
       "RIVIAN          103.000000\n",
       "LUCID MOTORS    103.000000\n",
       "GENESIS         103.000000\n",
       "Name: electric_range, dtype: float64"
      ]
     },
     "execution_count": 61,
     "metadata": {},
     "output_type": "execute_result"
    }
   ],
   "source": [
    "make_er_diff = data.groupby('make')['electric_range'].mean().sort_values(ascending=False).head(10)\n",
    "make_er_diff"
   ]
  },
  {
   "cell_type": "code",
   "execution_count": 62,
   "metadata": {},
   "outputs": [
    {
     "data": {
      "image/png": "[encoded data removed]",
      "text/plain": [
       "<Figure size 800x300 with 1 Axes>"
      ]
     },
     "metadata": {},
     "output_type": "display_data"
    }
   ],
   "source": [
    "plt.figure(figsize=(8,3))\n",
    "sns.barplot(x=make_er_diff.values, y=make_er_diff.index, palette='dark')\n",
    "plt.title(\"Top 10 Average Electric Range makers\")\n",
    "plt.xlabel(\"Average Electric Range\")\n",
    "plt.ylabel(\"Makers\")\n",
    "plt.show()"
   ]
  },
  {
   "cell_type": "markdown",
   "metadata": {},
   "source": [
    "On an average 'Jaguar' makes the vehicles with highest electric range, followed by 'Tesla' and 'Polestar'. 10th being 'Genesis'"
   ]
  },
  {
   "cell_type": "markdown",
   "metadata": {},
   "source": [
    "2. Electric Range vs Electric Vehicle Type"
   ]
  },
  {
   "cell_type": "code",
   "execution_count": 63,
   "metadata": {},
   "outputs": [
    {
     "data": {
      "image/png": "[encoded data removed]",
      "text/plain": [
       "<Figure size 800x200 with 1 Axes>"
      ]
     },
     "metadata": {},
     "output_type": "display_data"
    }
   ],
   "source": [
    "plt.figure(figsize=(8,2))\n",
    "sns.boxplot(x='electric_range', y='electric_vehicle_type', data=data, width=0.3, fliersize=5)\n",
    "plt.title('Electric Range by Electric Vehicle Type')\n",
    "plt.show()"
   ]
  },
  {
   "cell_type": "markdown",
   "metadata": {},
   "source": [
    "It is evident that on an average or overall, Battery vehicles have more electric range than hybrid vehicles"
   ]
  },
  {
   "cell_type": "markdown",
   "metadata": {},
   "source": [
    "3. Model Year vs Electric Range"
   ]
  },
  {
   "cell_type": "code",
   "execution_count": 64,
   "metadata": {},
   "outputs": [
    {
     "data": {
      "image/png": "[encoded data removed]",
      "text/plain": [
       "<Figure size 1000x300 with 1 Axes>"
      ]
     },
     "metadata": {},
     "output_type": "display_data"
    }
   ],
   "source": [
    "# Boxplot to analyze electric range by model year\n",
    "plt.figure(figsize=(10,3))\n",
    "sns.boxplot(x='model_year', y='electric_range', data=data)\n",
    "plt.title('Electric Range by Model Year')\n",
    "plt.xticks(rotation=90)\n",
    "plt.show()"
   ]
  },
  {
   "cell_type": "markdown",
   "metadata": {},
   "source": [
    "4. Electric Range vs Clean_alternative_fuel_vehicle_(cafv)_eligibility"
   ]
  },
  {
   "cell_type": "code",
   "execution_count": 65,
   "metadata": {},
   "outputs": [
    {
     "data": {
      "image/png": "[encoded data removed]",
      "text/plain": [
       "<Figure size 1000x200 with 1 Axes>"
      ]
     },
     "metadata": {},
     "output_type": "display_data"
    }
   ],
   "source": [
    "plt.figure(figsize=(10,2))\n",
    "sns.boxplot(y='clean_alternative_fuel_vehicle_(cafv)_eligibility', x='electric_range', data=data)\n",
    "plt.title('Electric Range by CAFV Eligibility')\n",
    "plt.xlabel('Electric Range')\n",
    "plt.ylabel('CAFV Eligibility')\n",
    "plt.xticks(rotation=90)\n",
    "plt.show()"
   ]
  },
  {
   "cell_type": "markdown",
   "metadata": {},
   "source": [
    "It is clearly observable that, the vehicles eligible for Clean Alternative Fuel incentives is having the varied eletric range, which tells that there has been significant increase in the range for these vehicles, which helps them to get eligible for this incentive.\n",
    "\n",
    "other two categories clearly shows there is no variablity in electric range at all."
   ]
  },
  {
   "cell_type": "markdown",
   "metadata": {},
   "source": [
    "Categorical vs categorical"
   ]
  },
  {
   "cell_type": "markdown",
   "metadata": {},
   "source": [
    "1. Electric_vehicle_type vs Clean_alternative_fuel_vehicle_(cafv)_eligibility"
   ]
  },
  {
   "cell_type": "code",
   "execution_count": 66,
   "metadata": {},
   "outputs": [
    {
     "data": {
      "text/plain": [
       "<Axes: ylabel='electric_vehicle_type'>"
      ]
     },
     "execution_count": 66,
     "metadata": {},
     "output_type": "execute_result"
    },
    {
     "data": {
      "image/png": "[encoded data removed]",
      "text/plain": [
       "<Figure size 1000x300 with 1 Axes>"
      ]
     },
     "metadata": {},
     "output_type": "display_data"
    }
   ],
   "source": [
    "\n",
    "pd.crosstab(data['electric_vehicle_type'], data['clean_alternative_fuel_vehicle_(cafv)_eligibility']).plot(kind='barh', figsize=(10,3), stacked=True)"
   ]
  },
  {
   "cell_type": "code",
   "execution_count": 67,
   "metadata": {},
   "outputs": [
    {
     "data": {
      "text/html": [
       "<div>\n",
       "<style scoped>\n",
       "    .dataframe tbody tr th:only-of-type {\n",
       "        vertical-align: middle;\n",
       "    }\n",
       "\n",
       "    .dataframe tbody tr th {\n",
       "        vertical-align: top;\n",
       "    }\n",
       "\n",
       "    .dataframe thead th {\n",
       "        text-align: right;\n",
       "    }\n",
       "</style>\n",
       "<table border=\"1\" class=\"dataframe\">\n",
       "  <thead>\n",
       "    <tr style=\"text-align: right;\">\n",
       "      <th>clean_alternative_fuel_vehicle_(cafv)_eligibility</th>\n",
       "      <th>Clean Alternative Fuel Vehicle Eligible</th>\n",
       "      <th>Eligibility unknown as battery range has not been researched</th>\n",
       "      <th>Not eligible due to low battery range</th>\n",
       "    </tr>\n",
       "    <tr>\n",
       "      <th>electric_vehicle_type</th>\n",
       "      <th></th>\n",
       "      <th></th>\n",
       "      <th></th>\n",
       "    </tr>\n",
       "  </thead>\n",
       "  <tbody>\n",
       "    <tr>\n",
       "      <th>Battery Electric Vehicle (BEV)</th>\n",
       "      <td>46626</td>\n",
       "      <td>39097</td>\n",
       "      <td>9</td>\n",
       "    </tr>\n",
       "    <tr>\n",
       "      <th>Plug-in Hybrid Electric Vehicle (PHEV)</th>\n",
       "      <td>11769</td>\n",
       "      <td>0</td>\n",
       "      <td>14651</td>\n",
       "    </tr>\n",
       "  </tbody>\n",
       "</table>\n",
       "</div>"
      ],
      "text/plain": [
       "clean_alternative_fuel_vehicle_(cafv)_eligibility  Clean Alternative Fuel Vehicle Eligible  \\\n",
       "electric_vehicle_type                                                                        \n",
       "Battery Electric Vehicle (BEV)                                                       46626   \n",
       "Plug-in Hybrid Electric Vehicle (PHEV)                                               11769   \n",
       "\n",
       "clean_alternative_fuel_vehicle_(cafv)_eligibility  Eligibility unknown as battery range has not been researched  \\\n",
       "electric_vehicle_type                                                                                             \n",
       "Battery Electric Vehicle (BEV)                                                                 39097              \n",
       "Plug-in Hybrid Electric Vehicle (PHEV)                                                             0              \n",
       "\n",
       "clean_alternative_fuel_vehicle_(cafv)_eligibility  Not eligible due to low battery range  \n",
       "electric_vehicle_type                                                                     \n",
       "Battery Electric Vehicle (BEV)                                                         9  \n",
       "Plug-in Hybrid Electric Vehicle (PHEV)                                             14651  "
      ]
     },
     "execution_count": 67,
     "metadata": {},
     "output_type": "execute_result"
    }
   ],
   "source": [
    "pd.crosstab(data['electric_vehicle_type'], data['clean_alternative_fuel_vehicle_(cafv)_eligibility'])"
   ]
  },
  {
   "cell_type": "markdown",
   "metadata": {},
   "source": [
    "1. Both Battery and Hybrid vehicles are eliugible for CAFV incentive. The number is more for Battery vehicles.\n",
    "2. Hybrid models have more vehicles with low battery."
   ]
  },
  {
   "cell_type": "markdown",
   "metadata": {},
   "source": [
    "Make vs Electric Vehicle Type"
   ]
  },
  {
   "cell_type": "code",
   "execution_count": 68,
   "metadata": {},
   "outputs": [
    {
     "data": {
      "text/plain": [
       "<Axes: ylabel='make'>"
      ]
     },
     "execution_count": 68,
     "metadata": {},
     "output_type": "execute_result"
    },
    {
     "data": {
      "image/png": "[encoded data removed]",
      "text/plain": [
       "<Figure size 1000x300 with 1 Axes>"
      ]
     },
     "metadata": {},
     "output_type": "display_data"
    }
   ],
   "source": [
    "crosstab_result = pd.crosstab(data['make'], data['electric_vehicle_type'])\n",
    "sorted_crosstab = crosstab_result.sort_values(by=['Battery Electric Vehicle (BEV)', 'Plug-in Hybrid Electric Vehicle (PHEV)'], ascending=False)[:10].plot(kind='barh', figsize=(10,3), stacked=True)\n",
    "sorted_crosstab"
   ]
  },
  {
   "cell_type": "markdown",
   "metadata": {},
   "source": [
    "Tesla has more no Hybrid vehicles at all. It is serving it's purpose well.\n"
   ]
  },
  {
   "cell_type": "markdown",
   "metadata": {},
   "source": [
    "County vs Electric Vehicle Type"
   ]
  },
  {
   "cell_type": "code",
   "execution_count": 69,
   "metadata": {},
   "outputs": [
    {
     "data": {
      "text/plain": [
       "<Axes: ylabel='county'>"
      ]
     },
     "execution_count": 69,
     "metadata": {},
     "output_type": "execute_result"
    },
    {
     "data": {
      "image/png": "[encoded data removed]",
      "text/plain": [
       "<Figure size 1000x300 with 1 Axes>"
      ]
     },
     "metadata": {},
     "output_type": "display_data"
    }
   ],
   "source": [
    "crosstab = pd.crosstab(data['county'], data['electric_vehicle_type'])\n",
    "crosstab.sort_values(by=crosstab.columns.tolist(), ascending=False).head(10).plot(kind='barh', figsize=(10,3), stacked=True)"
   ]
  },
  {
   "cell_type": "markdown",
   "metadata": {},
   "source": [
    "Average Electric Range for top 10 counties"
   ]
  },
  {
   "cell_type": "code",
   "execution_count": 70,
   "metadata": {},
   "outputs": [
    {
     "data": {
      "text/plain": [
       "county\n",
       "Ferry        144.037037\n",
       "Columbia     139.538462\n",
       "Chelan       132.944954\n",
       "Kittitas     131.028061\n",
       "Wahkiakum    129.461538\n",
       "King         129.369549\n",
       "Snohomish    123.978327\n",
       "Klickitat    122.942857\n",
       "Adams        122.676471\n",
       "Okanogan     121.536913\n",
       "Name: electric_range, dtype: float64"
      ]
     },
     "execution_count": 70,
     "metadata": {},
     "output_type": "execute_result"
    }
   ],
   "source": [
    "top10_counties_avg_er = data.groupby('county')['electric_range'].mean().sort_values(ascending=False).head(10)\n",
    "top10_counties_avg_er"
   ]
  },
  {
   "cell_type": "code",
   "execution_count": 71,
   "metadata": {},
   "outputs": [
    {
     "data": {
      "image/png": "[encoded data removed]",
      "text/plain": [
       "<Figure size 1000x300 with 1 Axes>"
      ]
     },
     "metadata": {},
     "output_type": "display_data"
    }
   ],
   "source": [
    "plt.figure(figsize=(10,3))\n",
    "sns.barplot(x=top10_counties_avg_er.values, y=top10_counties_avg_er.index, palette='dark')\n",
    "plt.show()"
   ]
  },
  {
   "cell_type": "markdown",
   "metadata": {},
   "source": [
    "## Task 2: Create a Choropleth using plotly.express to display the number of EV vehicles based on location"
   ]
  },
  {
   "cell_type": "code",
   "execution_count": 72,
   "metadata": {},
   "outputs": [],
   "source": [
    "data = data.rename(columns={'latitude' : 'longitude',\n",
    "                     'longitude' : 'latitude'})"
   ]
  },
  {
   "cell_type": "code",
   "execution_count": 73,
   "metadata": {},
   "outputs": [],
   "source": [
    "import plotly.express as px"
   ]
  },
  {
   "cell_type": "code",
   "execution_count": 74,
   "metadata": {},
   "outputs": [],
   "source": [
    "data['ev_count'] = data.groupby(['state','postal_code','county','latitude', 'longitude'])['postal_code'].transform('count')"
   ]
  },
  {
   "cell_type": "code",
   "execution_count": 75,
   "metadata": {},
   "outputs": [
    {
     "data": {
      "text/html": [
       "<div>\n",
       "<style scoped>\n",
       "    .dataframe tbody tr th:only-of-type {\n",
       "        vertical-align: middle;\n",
       "    }\n",
       "\n",
       "    .dataframe tbody tr th {\n",
       "        vertical-align: top;\n",
       "    }\n",
       "\n",
       "    .dataframe thead th {\n",
       "        text-align: right;\n",
       "    }\n",
       "</style>\n",
       "<table border=\"1\" class=\"dataframe\">\n",
       "  <thead>\n",
       "    <tr style=\"text-align: right;\">\n",
       "      <th></th>\n",
       "      <th>state</th>\n",
       "      <th>postal_code</th>\n",
       "      <th>county</th>\n",
       "      <th>latitude</th>\n",
       "      <th>longitude</th>\n",
       "      <th>ev_count</th>\n",
       "    </tr>\n",
       "  </thead>\n",
       "  <tbody>\n",
       "    <tr>\n",
       "      <th>0</th>\n",
       "      <td>WA</td>\n",
       "      <td>98001</td>\n",
       "      <td>King</td>\n",
       "      <td>47.3074</td>\n",
       "      <td>-122.23035</td>\n",
       "      <td>465</td>\n",
       "    </tr>\n",
       "    <tr>\n",
       "      <th>1</th>\n",
       "      <td>WA</td>\n",
       "      <td>98002</td>\n",
       "      <td>King</td>\n",
       "      <td>47.28317</td>\n",
       "      <td>-122.21698</td>\n",
       "      <td>165</td>\n",
       "    </tr>\n",
       "    <tr>\n",
       "      <th>2</th>\n",
       "      <td>WA</td>\n",
       "      <td>98003</td>\n",
       "      <td>King</td>\n",
       "      <td>47.30151</td>\n",
       "      <td>-122.3303</td>\n",
       "      <td>312</td>\n",
       "    </tr>\n",
       "    <tr>\n",
       "      <th>3</th>\n",
       "      <td>WA</td>\n",
       "      <td>98004</td>\n",
       "      <td>King</td>\n",
       "      <td>47.61001</td>\n",
       "      <td>-122.1872</td>\n",
       "      <td>2001</td>\n",
       "    </tr>\n",
       "    <tr>\n",
       "      <th>4</th>\n",
       "      <td>WA</td>\n",
       "      <td>98005</td>\n",
       "      <td>King</td>\n",
       "      <td>47.64441</td>\n",
       "      <td>-122.1621</td>\n",
       "      <td>829</td>\n",
       "    </tr>\n",
       "    <tr>\n",
       "      <th>...</th>\n",
       "      <td>...</td>\n",
       "      <td>...</td>\n",
       "      <td>...</td>\n",
       "      <td>...</td>\n",
       "      <td>...</td>\n",
       "      <td>...</td>\n",
       "    </tr>\n",
       "    <tr>\n",
       "      <th>551</th>\n",
       "      <td>WA</td>\n",
       "      <td>99360</td>\n",
       "      <td>Walla Walla</td>\n",
       "      <td>46.04238</td>\n",
       "      <td>-118.66919</td>\n",
       "      <td>4</td>\n",
       "    </tr>\n",
       "    <tr>\n",
       "      <th>552</th>\n",
       "      <td>WA</td>\n",
       "      <td>99361</td>\n",
       "      <td>Walla Walla</td>\n",
       "      <td>46.27013</td>\n",
       "      <td>-118.15448</td>\n",
       "      <td>8</td>\n",
       "    </tr>\n",
       "    <tr>\n",
       "      <th>553</th>\n",
       "      <td>WA</td>\n",
       "      <td>99362</td>\n",
       "      <td>Walla Walla</td>\n",
       "      <td>46.07068</td>\n",
       "      <td>-118.34261</td>\n",
       "      <td>248</td>\n",
       "    </tr>\n",
       "    <tr>\n",
       "      <th>554</th>\n",
       "      <td>WA</td>\n",
       "      <td>99402</td>\n",
       "      <td>Asotin</td>\n",
       "      <td>46.34056</td>\n",
       "      <td>-117.04784</td>\n",
       "      <td>9</td>\n",
       "    </tr>\n",
       "    <tr>\n",
       "      <th>555</th>\n",
       "      <td>WA</td>\n",
       "      <td>99403</td>\n",
       "      <td>Asotin</td>\n",
       "      <td>46.41402</td>\n",
       "      <td>-117.04556</td>\n",
       "      <td>39</td>\n",
       "    </tr>\n",
       "  </tbody>\n",
       "</table>\n",
       "<p>556 rows × 6 columns</p>\n",
       "</div>"
      ],
      "text/plain": [
       "    state  postal_code       county  latitude   longitude  ev_count\n",
       "0      WA        98001         King   47.3074  -122.23035       465\n",
       "1      WA        98002         King  47.28317  -122.21698       165\n",
       "2      WA        98003         King  47.30151   -122.3303       312\n",
       "3      WA        98004         King  47.61001   -122.1872      2001\n",
       "4      WA        98005         King  47.64441   -122.1621       829\n",
       "..    ...          ...          ...       ...         ...       ...\n",
       "551    WA        99360  Walla Walla  46.04238  -118.66919         4\n",
       "552    WA        99361  Walla Walla  46.27013  -118.15448         8\n",
       "553    WA        99362  Walla Walla  46.07068  -118.34261       248\n",
       "554    WA        99402       Asotin  46.34056  -117.04784         9\n",
       "555    WA        99403       Asotin  46.41402  -117.04556        39\n",
       "\n",
       "[556 rows x 6 columns]"
      ]
     },
     "execution_count": 75,
     "metadata": {},
     "output_type": "execute_result"
    }
   ],
   "source": [
    "location_data_df = data.groupby(['state', 'postal_code', 'county', 'latitude', 'longitude']).size().reset_index(name='ev_count')\n",
    "location_data_df"
   ]
  },
  {
   "cell_type": "code",
   "execution_count": 76,
   "metadata": {},
   "outputs": [],
   "source": [
    "import plotly.express as px"
   ]
  },
  {
   "cell_type": "code",
   "execution_count": 77,
   "metadata": {},
   "outputs": [
    {
     "data": {
      "application/vnd.plotly.v1+json": {
       "config": {
        "plotlyServerURL": "https://plot.ly"
       },
       "data": [
        {
         "customdata": [
          [
           98001,
           465
          ],
          [
           98002,
           165
          ],
          [
           98003,
           312
          ],
          [
           98004,
           2001
          ],
          [
           98005,
           829
          ],
          [
           98006,
           1851
          ],
          [
           98007,
           641
          ],
          [
           98008,
           964
          ],
          [
           98010,
           191
          ],
          [
           98011,
           705
          ],
          [
           98011,
           1
          ],
          [
           98012,
           1850
          ],
          [
           98014,
           240
          ],
          [
           98019,
           378
          ],
          [
           98020,
           550
          ],
          [
           98021,
           1155
          ],
          [
           98022,
           204
          ],
          [
           98022,
           11
          ],
          [
           98023,
           514
          ],
          [
           98024,
           188
          ],
          [
           98026,
           784
          ],
          [
           98027,
           1060
          ],
          [
           98028,
           682
          ],
          [
           98029,
           1182
          ],
          [
           98030,
           327
          ],
          [
           98031,
           518
          ],
          [
           98032,
           374
          ],
          [
           98033,
           2059
          ],
          [
           98034,
           1578
          ],
          [
           98036,
           674
          ],
          [
           98037,
           396
          ],
          [
           98038,
           813
          ],
          [
           98039,
           242
          ],
          [
           98040,
           1639
          ],
          [
           98042,
           718
          ],
          [
           98043,
           276
          ],
          [
           98045,
           466
          ],
          [
           98047,
           39
          ],
          [
           98047,
           4
          ],
          [
           98050,
           1
          ],
          [
           98051,
           60
          ],
          [
           98052,
           2914
          ],
          [
           98053,
           1169
          ],
          [
           98055,
           338
          ],
          [
           98056,
           735
          ],
          [
           98057,
           348
          ],
          [
           98058,
           701
          ],
          [
           98059,
           1200
          ],
          [
           98065,
           507
          ],
          [
           98068,
           13
          ],
          [
           98070,
           472
          ],
          [
           98072,
           1574
          ],
          [
           98072,
           87
          ],
          [
           98074,
           1594
          ],
          [
           98075,
           1329
          ],
          [
           98077,
           27
          ],
          [
           98077,
           25
          ],
          [
           98087,
           555
          ],
          [
           98092,
           485
          ],
          [
           98092,
           128
          ],
          [
           98101,
           428
          ],
          [
           98102,
           594
          ],
          [
           98103,
           1507
          ],
          [
           98104,
           608
          ],
          [
           98105,
           1008
          ],
          [
           98106,
           472
          ],
          [
           98107,
           736
          ],
          [
           98108,
           433
          ],
          [
           98109,
           1089
          ],
          [
           98110,
           1224
          ],
          [
           98112,
           1110
          ],
          [
           98115,
           1878
          ],
          [
           98116,
           749
          ],
          [
           98117,
           1198
          ],
          [
           98118,
           978
          ],
          [
           98119,
           686
          ],
          [
           98121,
           545
          ],
          [
           98122,
           928
          ],
          [
           98125,
           958
          ],
          [
           98126,
           541
          ],
          [
           98133,
           864
          ],
          [
           98134,
           158
          ],
          [
           98136,
           544
          ],
          [
           98144,
           848
          ],
          [
           98146,
           414
          ],
          [
           98148,
           622
          ],
          [
           98155,
           858
          ],
          [
           98158,
           1
          ],
          [
           98164,
           1
          ],
          [
           98166,
           410
          ],
          [
           98168,
           364
          ],
          [
           98177,
           776
          ],
          [
           98178,
           368
          ],
          [
           98188,
           303
          ],
          [
           98198,
           331
          ],
          [
           98199,
           857
          ],
          [
           98201,
           250
          ],
          [
           98203,
           344
          ],
          [
           98204,
           213
          ],
          [
           98206,
           3
          ],
          [
           98208,
           667
          ],
          [
           98220,
           6
          ],
          [
           98221,
           7
          ],
          [
           98221,
           422
          ],
          [
           98223,
           363
          ],
          [
           98224,
           3
          ],
          [
           98225,
           665
          ],
          [
           98226,
           605
          ],
          [
           98229,
           7
          ],
          [
           98229,
           674
          ],
          [
           98230,
           275
          ],
          [
           98232,
           75
          ],
          [
           98233,
           99
          ],
          [
           98235,
           2
          ],
          [
           98236,
           160
          ],
          [
           98237,
           21
          ],
          [
           98239,
           149
          ],
          [
           98240,
           22
          ],
          [
           98241,
           2
          ],
          [
           98241,
           6
          ],
          [
           98243,
           1
          ],
          [
           98244,
           22
          ],
          [
           98245,
           228
          ],
          [
           98247,
           59
          ],
          [
           98248,
           238
          ],
          [
           98249,
           139
          ],
          [
           98250,
           331
          ],
          [
           98251,
           1
          ],
          [
           98251,
           40
          ],
          [
           98252,
           98
          ],
          [
           98253,
           40
          ],
          [
           98257,
           60
          ],
          [
           98258,
           756
          ],
          [
           98260,
           179
          ],
          [
           98261,
           98
          ],
          [
           98262,
           33
          ],
          [
           98263,
           1
          ],
          [
           98264,
           134
          ],
          [
           98266,
           21
          ],
          [
           98267,
           2
          ],
          [
           98270,
           468
          ],
          [
           98271,
           214
          ],
          [
           98272,
           457
          ],
          [
           98273,
           226
          ],
          [
           98274,
           199
          ],
          [
           98275,
           493
          ],
          [
           98276,
           3
          ],
          [
           98277,
           314
          ],
          [
           98279,
           39
          ],
          [
           98281,
           44
          ],
          [
           98282,
           317
          ],
          [
           98283,
           1
          ],
          [
           98284,
           111
          ],
          [
           98284,
           28
          ],
          [
           98286,
           11
          ],
          [
           98288,
           3
          ],
          [
           98290,
           627
          ],
          [
           98292,
           274
          ],
          [
           98294,
           89
          ],
          [
           98295,
           10
          ],
          [
           98296,
           697
          ],
          [
           98297,
           2
          ],
          [
           98303,
           25
          ],
          [
           98304,
           1
          ],
          [
           98304,
           5
          ],
          [
           98305,
           1
          ],
          [
           98310,
           165
          ],
          [
           98311,
           220
          ],
          [
           98312,
           372
          ],
          [
           98314,
           2
          ],
          [
           98315,
           15
          ],
          [
           98320,
           16
          ],
          [
           98321,
           148
          ],
          [
           98323,
           4
          ],
          [
           98325,
           23
          ],
          [
           98326,
           1
          ],
          [
           98327,
           120
          ],
          [
           98328,
           80
          ],
          [
           98329,
           3
          ],
          [
           98329,
           151
          ],
          [
           98331,
           14
          ],
          [
           98331,
           1
          ],
          [
           98332,
           479
          ],
          [
           98333,
           136
          ],
          [
           98335,
           635
          ],
          [
           98336,
           1
          ],
          [
           98337,
           43
          ],
          [
           98338,
           204
          ],
          [
           98339,
           34
          ],
          [
           98340,
           41
          ],
          [
           98342,
           38
          ],
          [
           98345,
           8
          ],
          [
           98346,
           181
          ],
          [
           98349,
           65
          ],
          [
           98351,
           13
          ],
          [
           98354,
           9
          ],
          [
           98354,
           36
          ],
          [
           98355,
           5
          ],
          [
           98356,
           11
          ],
          [
           98357,
           7
          ],
          [
           98358,
           38
          ],
          [
           98359,
           66
          ],
          [
           98360,
           98
          ],
          [
           98361,
           10
          ],
          [
           98362,
           197
          ],
          [
           98363,
           101
          ],
          [
           98365,
           86
          ],
          [
           98366,
           281
          ],
          [
           98367,
           358
          ],
          [
           98368,
           452
          ],
          [
           98370,
           487
          ],
          [
           98371,
           236
          ],
          [
           98372,
           220
          ],
          [
           98373,
           174
          ],
          [
           98374,
           394
          ],
          [
           98375,
           209
          ],
          [
           98376,
           37
          ],
          [
           98377,
           3
          ],
          [
           98380,
           57
          ],
          [
           98381,
           2
          ],
          [
           98382,
           405
          ],
          [
           98382,
           11
          ],
          [
           98383,
           218
          ],
          [
           98385,
           2
          ],
          [
           98387,
           244
          ],
          [
           98388,
           118
          ],
          [
           98390,
           120
          ],
          [
           98391,
           789
          ],
          [
           98392,
           48
          ],
          [
           98394,
           18
          ],
          [
           98402,
           86
          ],
          [
           98403,
           117
          ],
          [
           98404,
           184
          ],
          [
           98405,
           185
          ],
          [
           98406,
           282
          ],
          [
           98407,
           405
          ],
          [
           98408,
           110
          ],
          [
           98409,
           163
          ],
          [
           98418,
           63
          ],
          [
           98421,
           6
          ],
          [
           98422,
           369
          ],
          [
           98424,
           79
          ],
          [
           98433,
           43
          ],
          [
           98438,
           4
          ],
          [
           98439,
           49
          ],
          [
           98443,
           49
          ],
          [
           98444,
           117
          ],
          [
           98445,
           147
          ],
          [
           98446,
           79
          ],
          [
           98465,
           73
          ],
          [
           98466,
           360
          ],
          [
           98467,
           211
          ],
          [
           98498,
           236
          ],
          [
           98499,
           153
          ],
          [
           98501,
           1184
          ],
          [
           98502,
           619
          ],
          [
           98503,
           373
          ],
          [
           98504,
           8
          ],
          [
           98506,
           362
          ],
          [
           98512,
           386
          ],
          [
           98513,
           380
          ],
          [
           98516,
           422
          ],
          [
           98520,
           99
          ],
          [
           98524,
           49
          ],
          [
           98526,
           1
          ],
          [
           98527,
           1
          ],
          [
           98528,
           1
          ],
          [
           98528,
           103
          ],
          [
           98530,
           1
          ],
          [
           98531,
           132
          ],
          [
           98531,
           13
          ],
          [
           98532,
           140
          ],
          [
           98533,
           2
          ],
          [
           98535,
           1
          ],
          [
           98536,
           2
          ],
          [
           98537,
           8
          ],
          [
           98538,
           4
          ],
          [
           98541,
           34
          ],
          [
           98541,
           6
          ],
          [
           98542,
           5
          ],
          [
           98546,
           48
          ],
          [
           98547,
           5
          ],
          [
           98547,
           2
          ],
          [
           98548,
           32
          ],
          [
           98550,
           42
          ],
          [
           98555,
           4
          ],
          [
           98557,
           19
          ],
          [
           98557,
           1
          ],
          [
           98560,
           1
          ],
          [
           98562,
           3
          ],
          [
           98563,
           53
          ],
          [
           98564,
           17
          ],
          [
           98568,
           11
          ],
          [
           98568,
           1
          ],
          [
           98569,
           89
          ],
          [
           98570,
           15
          ],
          [
           98571,
           16
          ],
          [
           98572,
           1
          ],
          [
           98575,
           1
          ],
          [
           98576,
           37
          ],
          [
           98577,
           31
          ],
          [
           98579,
           6
          ],
          [
           98579,
           69
          ],
          [
           98580,
           89
          ],
          [
           98581,
           1
          ],
          [
           98582,
           3
          ],
          [
           98583,
           2
          ],
          [
           98584,
           255
          ],
          [
           98585,
           7
          ],
          [
           98586,
           3
          ],
          [
           98587,
           2
          ],
          [
           98588,
           16
          ],
          [
           98589,
           65
          ],
          [
           98590,
           7
          ],
          [
           98591,
           23
          ],
          [
           98592,
           32
          ],
          [
           98593,
           4
          ],
          [
           98595,
           14
          ],
          [
           98596,
           41
          ],
          [
           98597,
           189
          ],
          [
           98601,
           14
          ],
          [
           98603,
           11
          ],
          [
           98604,
           355
          ],
          [
           98605,
           2
          ],
          [
           98605,
           1
          ],
          [
           98606,
           199
          ],
          [
           98607,
           1020
          ],
          [
           98609,
           1
          ],
          [
           98610,
           15
          ],
          [
           98611,
           49
          ],
          [
           98612,
           30
          ],
          [
           98613,
           1
          ],
          [
           98614,
           2
          ],
          [
           98616,
           2
          ],
          [
           98617,
           6
          ],
          [
           98619,
           2
          ],
          [
           98620,
           26
          ],
          [
           98621,
           1
          ],
          [
           98624,
           10
          ],
          [
           98625,
           76
          ],
          [
           98626,
           104
          ],
          [
           98629,
           127
          ],
          [
           98631,
           21
          ],
          [
           98632,
           220
          ],
          [
           98635,
           16
          ],
          [
           98638,
           11
          ],
          [
           98638,
           3
          ],
          [
           98639,
           7
          ],
          [
           98640,
           49
          ],
          [
           98641,
           1
          ],
          [
           98642,
           564
          ],
          [
           98643,
           1
          ],
          [
           98644,
           7
          ],
          [
           98645,
           20
          ],
          [
           98647,
           4
          ],
          [
           98648,
           43
          ],
          [
           98649,
           3
          ],
          [
           98650,
           14
          ],
          [
           98651,
           23
          ],
          [
           98660,
           201
          ],
          [
           98661,
           405
          ],
          [
           98662,
           328
          ],
          [
           98663,
           171
          ],
          [
           98664,
           260
          ],
          [
           98665,
           298
          ],
          [
           98670,
           2
          ],
          [
           98671,
           333
          ],
          [
           98671,
           48
          ],
          [
           98672,
           105
          ],
          [
           98672,
           2
          ],
          [
           98674,
           27
          ],
          [
           98674,
           82
          ],
          [
           98675,
           29
          ],
          [
           98682,
           635
          ],
          [
           98683,
           491
          ],
          [
           98684,
           342
          ],
          [
           98685,
           508
          ],
          [
           98686,
           374
          ],
          [
           98801,
           253
          ],
          [
           98802,
           169
          ],
          [
           98812,
           1
          ],
          [
           98812,
           6
          ],
          [
           98814,
           6
          ],
          [
           98815,
           46
          ],
          [
           98816,
           114
          ],
          [
           98816,
           1
          ],
          [
           98822,
           15
          ],
          [
           98823,
           34
          ],
          [
           98826,
           150
          ],
          [
           98828,
           18
          ],
          [
           98830,
           2
          ],
          [
           98831,
           44
          ],
          [
           98832,
           2
          ],
          [
           98833,
           14
          ],
          [
           98834,
           2
          ],
          [
           98837,
           173
          ],
          [
           98840,
           5
          ],
          [
           98841,
           11
          ],
          [
           98843,
           37
          ],
          [
           98844,
           12
          ],
          [
           98845,
           2
          ],
          [
           98846,
           5
          ],
          [
           98847,
           14
          ],
          [
           98848,
           63
          ],
          [
           98849,
           5
          ],
          [
           98850,
           4
          ],
          [
           98851,
           13
          ],
          [
           98853,
           1
          ],
          [
           98855,
           13
          ],
          [
           98856,
           30
          ],
          [
           98857,
           2
          ],
          [
           98858,
           4
          ],
          [
           98862,
           39
          ],
          [
           98901,
           69
          ],
          [
           98902,
           105
          ],
          [
           98903,
           46
          ],
          [
           98908,
           185
          ],
          [
           98922,
           137
          ],
          [
           98925,
           17
          ],
          [
           98926,
           178
          ],
          [
           98930,
           3
          ],
          [
           98930,
           19
          ],
          [
           98932,
           7
          ],
          [
           98934,
           4
          ],
          [
           98935,
           1
          ],
          [
           98936,
           21
          ],
          [
           98937,
           17
          ],
          [
           98938,
           3
          ],
          [
           98940,
           26
          ],
          [
           98941,
           11
          ],
          [
           98942,
           63
          ],
          [
           98943,
           2
          ],
          [
           98944,
           39
          ],
          [
           98946,
           3
          ],
          [
           98947,
           5
          ],
          [
           98948,
           9
          ],
          [
           98950,
           1
          ],
          [
           98951,
           5
          ],
          [
           98952,
           1
          ],
          [
           98953,
           20
          ],
          [
           99001,
           16
          ],
          [
           99003,
           23
          ],
          [
           99004,
           108
          ],
          [
           99005,
           71
          ],
          [
           99006,
           39
          ],
          [
           99006,
           4
          ],
          [
           99008,
           3
          ],
          [
           99009,
           3
          ],
          [
           99009,
           15
          ],
          [
           99011,
           10
          ],
          [
           99012,
           1
          ],
          [
           99013,
           2
          ],
          [
           99016,
           135
          ],
          [
           99017,
           1
          ],
          [
           99018,
           1
          ],
          [
           99019,
           119
          ],
          [
           99021,
           41
          ],
          [
           99022,
           36
          ],
          [
           99023,
           6
          ],
          [
           99025,
           25
          ],
          [
           99026,
           31
          ],
          [
           99027,
           31
          ],
          [
           99029,
           4
          ],
          [
           99029,
           2
          ],
          [
           99030,
           5
          ],
          [
           99031,
           7
          ],
          [
           99032,
           1
          ],
          [
           99033,
           3
          ],
          [
           99036,
           16
          ],
          [
           99037,
           77
          ],
          [
           99101,
           3
          ],
          [
           99109,
           12
          ],
          [
           99111,
           12
          ],
          [
           99113,
           2
          ],
          [
           99114,
           37
          ],
          [
           99115,
           8
          ],
          [
           99116,
           2
          ],
          [
           99118,
           7
          ],
          [
           99119,
           3
          ],
          [
           99121,
           1
          ],
          [
           99122,
           8
          ],
          [
           99123,
           4
          ],
          [
           99125,
           2
          ],
          [
           99126,
           4
          ],
          [
           99129,
           2
          ],
          [
           99130,
           2
          ],
          [
           99131,
           1
          ],
          [
           99133,
           5
          ],
          [
           99134,
           3
          ],
          [
           99135,
           1
          ],
          [
           99137,
           1
          ],
          [
           99138,
           2
          ],
          [
           99141,
           7
          ],
          [
           99141,
           11
          ],
          [
           99147,
           2
          ],
          [
           99148,
           4
          ],
          [
           99156,
           24
          ],
          [
           99156,
           1
          ],
          [
           99159,
           1
          ],
          [
           99161,
           10
          ],
          [
           99163,
           138
          ],
          [
           99166,
           10
          ],
          [
           99167,
           4
          ],
          [
           99169,
           10
          ],
          [
           99170,
           1
          ],
          [
           99170,
           4
          ],
          [
           99171,
           2
          ],
          [
           99173,
           2
          ],
          [
           99179,
           1
          ],
          [
           99180,
           2
          ],
          [
           99181,
           6
          ],
          [
           99185,
           4
          ],
          [
           99201,
           78
          ],
          [
           99202,
           78
          ],
          [
           99203,
           244
          ],
          [
           99204,
           46
          ],
          [
           99205,
           130
          ],
          [
           99206,
           135
          ],
          [
           99207,
           63
          ],
          [
           99208,
           315
          ],
          [
           99212,
           167
          ],
          [
           99216,
           83
          ],
          [
           99217,
           75
          ],
          [
           99218,
           64
          ],
          [
           99223,
           290
          ],
          [
           99224,
           197
          ],
          [
           99301,
           347
          ],
          [
           99320,
           42
          ],
          [
           99323,
           11
          ],
          [
           99324,
           40
          ],
          [
           99326,
           5
          ],
          [
           99328,
           13
          ],
          [
           99330,
           4
          ],
          [
           99336,
           162
          ],
          [
           99337,
           177
          ],
          [
           99338,
           228
          ],
          [
           99341,
           2
          ],
          [
           99343,
           5
          ],
          [
           99344,
           22
          ],
          [
           99344,
           4
          ],
          [
           99344,
           5
          ],
          [
           99347,
           4
          ],
          [
           99348,
           1
          ],
          [
           99349,
           16
          ],
          [
           99350,
           34
          ],
          [
           99350,
           2
          ],
          [
           99352,
           397
          ],
          [
           99353,
           142
          ],
          [
           99354,
           191
          ],
          [
           99356,
           1
          ],
          [
           99357,
           13
          ],
          [
           99360,
           4
          ],
          [
           99361,
           8
          ],
          [
           99362,
           248
          ],
          [
           99402,
           9
          ],
          [
           99403,
           39
          ]
         ],
         "geo": "geo",
         "hovertemplate": "<b>%{hovertext}</b><br><br>ev_count=%{marker.color}<br>latitude=%{lat}<br>longitude=%{lon}<br>postal_code=%{customdata[0]}<extra></extra>",
         "hovertext": [
          "King",
          "King",
          "King",
          "King",
          "King",
          "King",
          "King",
          "King",
          "King",
          "King",
          "Snohomish",
          "Snohomish",
          "King",
          "King",
          "Snohomish",
          "Snohomish",
          "King",
          "Pierce",
          "King",
          "King",
          "Snohomish",
          "King",
          "King",
          "King",
          "King",
          "King",
          "King",
          "King",
          "King",
          "Snohomish",
          "Snohomish",
          "King",
          "King",
          "King",
          "King",
          "Snohomish",
          "King",
          "King",
          "Pierce",
          "King",
          "King",
          "King",
          "King",
          "King",
          "King",
          "King",
          "King",
          "King",
          "King",
          "Kittitas",
          "King",
          "King",
          "Snohomish",
          "King",
          "King",
          "King",
          "Snohomish",
          "Snohomish",
          "King",
          "Pierce",
          "King",
          "King",
          "King",
          "King",
          "King",
          "King",
          "King",
          "King",
          "King",
          "Kitsap",
          "King",
          "King",
          "King",
          "King",
          "King",
          "King",
          "King",
          "King",
          "King",
          "King",
          "King",
          "King",
          "King",
          "King",
          "King",
          "King",
          "King",
          "King",
          "King",
          "King",
          "King",
          "King",
          "King",
          "King",
          "King",
          "King",
          "Snohomish",
          "Snohomish",
          "Snohomish",
          "Snohomish",
          "Snohomish",
          "Whatcom",
          "San Juan",
          "Skagit",
          "Snohomish",
          "King",
          "Whatcom",
          "Whatcom",
          "Skagit",
          "Whatcom",
          "Whatcom",
          "Skagit",
          "Skagit",
          "Skagit",
          "Island",
          "Skagit",
          "Island",
          "Whatcom",
          "Skagit",
          "Snohomish",
          "San Juan",
          "Whatcom",
          "San Juan",
          "Whatcom",
          "Whatcom",
          "Island",
          "San Juan",
          "King",
          "Snohomish",
          "Snohomish",
          "Island",
          "Skagit",
          "Snohomish",
          "Island",
          "San Juan",
          "Whatcom",
          "Skagit",
          "Whatcom",
          "Whatcom",
          "Skagit",
          "Snohomish",
          "Snohomish",
          "Snohomish",
          "Skagit",
          "Skagit",
          "Snohomish",
          "Whatcom",
          "Island",
          "San Juan",
          "Whatcom",
          "Island",
          "Skagit",
          "Skagit",
          "Whatcom",
          "San Juan",
          "King",
          "Snohomish",
          "Snohomish",
          "Snohomish",
          "Whatcom",
          "Snohomish",
          "San Juan",
          "Pierce",
          "Lewis",
          "Pierce",
          "Clallam",
          "Kitsap",
          "Kitsap",
          "Kitsap",
          "Kitsap",
          "Kitsap",
          "Jefferson",
          "Pierce",
          "Pierce",
          "Jefferson",
          "Clallam",
          "Pierce",
          "Pierce",
          "Kitsap",
          "Pierce",
          "Clallam",
          "Jefferson",
          "Pierce",
          "Pierce",
          "Pierce",
          "Lewis",
          "Kitsap",
          "Pierce",
          "Jefferson",
          "Kitsap",
          "Kitsap",
          "Kitsap",
          "Kitsap",
          "Pierce",
          "Pierce",
          "King",
          "Pierce",
          "Lewis",
          "Lewis",
          "Clallam",
          "Jefferson",
          "Kitsap",
          "Pierce",
          "Lewis",
          "Clallam",
          "Clallam",
          "Jefferson",
          "Kitsap",
          "Kitsap",
          "Jefferson",
          "Kitsap",
          "Pierce",
          "Pierce",
          "Pierce",
          "Pierce",
          "Pierce",
          "Jefferson",
          "Lewis",
          "Kitsap",
          "Clallam",
          "Clallam",
          "Jefferson",
          "Kitsap",
          "Pierce",
          "Pierce",
          "Pierce",
          "Pierce",
          "Pierce",
          "Kitsap",
          "Pierce",
          "Pierce",
          "Pierce",
          "Pierce",
          "Pierce",
          "Pierce",
          "Pierce",
          "Pierce",
          "Pierce",
          "Pierce",
          "Pierce",
          "Pierce",
          "Pierce",
          "Pierce",
          "Pierce",
          "Pierce",
          "Pierce",
          "Pierce",
          "Pierce",
          "Pierce",
          "Pierce",
          "Pierce",
          "Pierce",
          "Pierce",
          "Pierce",
          "Thurston",
          "Thurston",
          "Thurston",
          "Thurston",
          "Thurston",
          "Thurston",
          "Thurston",
          "Thurston",
          "Grays Harbor",
          "Mason",
          "Grays Harbor",
          "Pacific",
          "Kitsap",
          "Mason",
          "Thurston",
          "Lewis",
          "Thurston",
          "Lewis",
          "Lewis",
          "Grays Harbor",
          "Grays Harbor",
          "Grays Harbor",
          "Lewis",
          "Grays Harbor",
          "Mason",
          "Lewis",
          "Mason",
          "Grays Harbor",
          "Pacific",
          "Mason",
          "Grays Harbor",
          "Mason",
          "Grays Harbor",
          "Mason",
          "Mason",
          "Grays Harbor",
          "Grays Harbor",
          "Lewis",
          "Grays Harbor",
          "Thurston",
          "Grays Harbor",
          "Lewis",
          "Grays Harbor",
          "Lewis",
          "Grays Harbor",
          "Thurston",
          "Pacific",
          "Lewis",
          "Thurston",
          "Pierce",
          "Cowlitz",
          "Lewis",
          "Grays Harbor",
          "Mason",
          "Lewis",
          "Pacific",
          "Grays Harbor",
          "Mason",
          "Thurston",
          "Pacific",
          "Lewis",
          "Mason",
          "Lewis",
          "Grays Harbor",
          "Lewis",
          "Thurston",
          "Clark",
          "Cowlitz",
          "Clark",
          "Klickitat",
          "Skamania",
          "Clark",
          "Clark",
          "Cowlitz",
          "Skamania",
          "Cowlitz",
          "Wahkiakum",
          "Klickitat",
          "Pacific",
          "Cowlitz",
          "Klickitat",
          "Klickitat",
          "Klickitat",
          "Wahkiakum",
          "Pacific",
          "Cowlitz",
          "Cowlitz",
          "Clark",
          "Pacific",
          "Cowlitz",
          "Klickitat",
          "Pacific",
          "Wahkiakum",
          "Skamania",
          "Pacific",
          "Pacific",
          "Clark",
          "Wahkiakum",
          "Pacific",
          "Cowlitz",
          "Wahkiakum",
          "Skamania",
          "Cowlitz",
          "Klickitat",
          "Skamania",
          "Clark",
          "Clark",
          "Clark",
          "Clark",
          "Clark",
          "Clark",
          "Klickitat",
          "Clark",
          "Skamania",
          "Klickitat",
          "Skamania",
          "Clark",
          "Cowlitz",
          "Clark",
          "Clark",
          "Clark",
          "Clark",
          "Clark",
          "Clark",
          "Chelan",
          "Douglas",
          "Douglas",
          "Okanogan",
          "Okanogan",
          "Chelan",
          "Chelan",
          "Okanogan",
          "Chelan",
          "Grant",
          "Chelan",
          "Chelan",
          "Douglas",
          "Chelan",
          "Grant",
          "Okanogan",
          "Okanogan",
          "Grant",
          "Okanogan",
          "Okanogan",
          "Douglas",
          "Okanogan",
          "Douglas",
          "Okanogan",
          "Chelan",
          "Grant",
          "Okanogan",
          "Douglas",
          "Grant",
          "Grant",
          "Okanogan",
          "Okanogan",
          "Grant",
          "Douglas",
          "Okanogan",
          "Yakima",
          "Yakima",
          "Yakima",
          "Yakima",
          "Kittitas",
          "Kittitas",
          "Kittitas",
          "Benton",
          "Yakima",
          "Yakima",
          "Kittitas",
          "Yakima",
          "Yakima",
          "Yakima",
          "Yakima",
          "Kittitas",
          "Kittitas",
          "Yakima",
          "Kittitas",
          "Yakima",
          "Kittitas",
          "Yakima",
          "Yakima",
          "Kittitas",
          "Yakima",
          "Yakima",
          "Yakima",
          "Spokane",
          "Spokane",
          "Spokane",
          "Spokane",
          "Spokane",
          "Stevens",
          "Spokane",
          "Pend Oreille",
          "Spokane",
          "Spokane",
          "Spokane",
          "Lincoln",
          "Spokane",
          "Whitman",
          "Spokane",
          "Spokane",
          "Spokane",
          "Spokane",
          "Spokane",
          "Spokane",
          "Spokane",
          "Spokane",
          "Lincoln",
          "Spokane",
          "Spokane",
          "Spokane",
          "Lincoln",
          "Whitman",
          "Spokane",
          "Spokane",
          "Stevens",
          "Stevens",
          "Whitman",
          "Whitman",
          "Stevens",
          "Grant",
          "Douglas",
          "Ferry",
          "Pend Oreille",
          "Ferry",
          "Lincoln",
          "Grant",
          "Whitman",
          "Stevens",
          "Stevens",
          "Whitman",
          "Stevens",
          "Lincoln",
          "Lincoln",
          "Grant",
          "Stevens",
          "Ferry",
          "Ferry",
          "Stevens",
          "Lincoln",
          "Stevens",
          "Pend Oreille",
          "Spokane",
          "Lincoln",
          "Whitman",
          "Whitman",
          "Ferry",
          "Stevens",
          "Adams",
          "Spokane",
          "Whitman",
          "Whitman",
          "Stevens",
          "Whitman",
          "Pend Oreille",
          "Stevens",
          "Lincoln",
          "Spokane",
          "Spokane",
          "Spokane",
          "Spokane",
          "Spokane",
          "Spokane",
          "Spokane",
          "Spokane",
          "Spokane",
          "Spokane",
          "Spokane",
          "Spokane",
          "Spokane",
          "Spokane",
          "Franklin",
          "Benton",
          "Walla Walla",
          "Walla Walla",
          "Franklin",
          "Columbia",
          "Franklin",
          "Benton",
          "Benton",
          "Benton",
          "Adams",
          "Franklin",
          "Adams",
          "Franklin",
          "Grant",
          "Garfield",
          "Walla Walla",
          "Grant",
          "Benton",
          "Yakima",
          "Benton",
          "Benton",
          "Benton",
          "Klickitat",
          "Grant",
          "Walla Walla",
          "Walla Walla",
          "Walla Walla",
          "Asotin",
          "Asotin"
         ],
         "lat": [
          "47.3074",
          "47.28317",
          "47.30151",
          "47.61001",
          "47.64441",
          "47.55584",
          "47.61334",
          "47.63131",
          "47.30893",
          "47.76144",
          "47.76144",
          "47.83448",
          "47.64901",
          "47.74068",
          "47.81116",
          "47.8031",
          "47.20433",
          "47.20433",
          "47.30297",
          "47.56812",
          "47.87166",
          "47.5301",
          "47.75892",
          "47.54748",
          "47.37271",
          "47.41185",
          "47.3807",
          "47.67887",
          "47.72201",
          "47.82557",
          "47.83785",
          "47.39394",
          "47.61613",
          "47.57816",
          "47.33778",
          "47.78803",
          "47.49348",
          "47.26465",
          "47.26465",
          "47.54371",
          "47.35298",
          "47.67858",
          "47.68555",
          "47.43954",
          "47.49929",
          "4.17756",
          "47.4466",
          "47.50549",
          "47.52716",
          "47.41873",
          "47.44929",
          "47.75448",
          "47.75448",
          "47.60326",
          "47.61344",
          "47.75264",
          "47.75264",
          "47.85727",
          "47.32326",
          "47.32326",
          "47.61085",
          "47.63433",
          "47.67596",
          "47.60357",
          "47.66127",
          "47.54286",
          "47.67597",
          "47.55379",
          "47.630685",
          "47.62728",
          "47.62687",
          "47.70013",
          "47.57894",
          "47.70044",
          "47.55115",
          "47.64586",
          "47.61578",
          "47.60803",
          "47.72656",
          "47.53433",
          "47.71868",
          "47.58616",
          "47.53755",
          "47.57874",
          "47.49408",
          "47.46155",
          "47.75736",
          "47.45775",
          "47.60622",
          "47.46665",
          "47.50314",
          "47.72238",
          "47.49461",
          "47.44538",
          "47.40139",
          "47.65908",
          "47.97659",
          "47.94949",
          "47.90456",
          "48.01306",
          "47.89252",
          "48.71768",
          "48.51748",
          "48.51748",
          "48.19471",
          "47.77193",
          "48.75235",
          "48.7999",
          "48.74487",
          "48.74487",
          "48.99404",
          "48.56045",
          "48.46846",
          "48.46376",
          "47.9796",
          "48.53892",
          "48.21857",
          "48.91865",
          "48.25431",
          "48.25431",
          "48.61989",
          "48.8268",
          "48.69389",
          "48.92009",
          "48.84756",
          "48.00956",
          "48.53448",
          "47.85565",
          "47.85565",
          "48.08157",
          "48.08844",
          "48.38874",
          "48.01497",
          "48.0399",
          "48.52342",
          "48.72043",
          "48.52525",
          "48.9429",
          "48.92369",
          "48.52739",
          "48.06114",
          "48.15353",
          "47.8526",
          "48.41644",
          "48.41626",
          "47.89908",
          "48.92857",
          "48.29077",
          "48.62356",
          "48.98867",
          "48.23986",
          "48.48758",
          "48.50858",
          "48.50858",
          "48.58348",
          "47.71192",
          "47.91265",
          "48.24159",
          "47.8623",
          "48.99956",
          "47.87115",
          "48.68843",
          "47.17794",
          "46.75908",
          "46.75908",
          "48.05431",
          "47.57772",
          "47.63132",
          "47.56573",
          "47.55671",
          "47.68732",
          "47.69838",
          "47.16299",
          "47.08015",
          "48.01182",
          "48.25371",
          "47.09583",
          "46.86733",
          "47.38165",
          "47.38165",
          "47.95014",
          "47.95014",
          "47.36223",
          "47.27375",
          "47.328",
          "46.53072",
          "47.565",
          "47.05703",
          "48.03591",
          "47.91795",
          "47.7487",
          "47.70251",
          "47.79803",
          "47.25035",
          "47.21454",
          "47.24898",
          "47.24898",
          "46.71902",
          "46.55465",
          "48.36778",
          "48.05105",
          "47.42602",
          "47.09596",
          "46.61019",
          "48.11872",
          "48.11653",
          "47.92989",
          "47.54103",
          "47.4916",
          "48.1212",
          "47.73689",
          "47.19044",
          "47.18709",
          "47.15252",
          "47.146",
          "47.1165",
          "47.82642",
          "46.53534",
          "47.64509",
          "48.25978",
          "48.07965",
          "48.07965",
          "47.65171",
          "47.13954",
          "47.06512",
          "47.17303",
          "47.2022",
          "47.19175",
          "47.73162",
          "47.34347",
          "47.25517",
          "47.26496",
          "47.21584",
          "47.24737",
          "47.26887",
          "47.27779",
          "47.20144",
          "47.21835",
          "47.22448",
          "47.2556",
          "47.30682",
          "47.23679",
          "47.10349",
          "47.13872",
          "47.12729",
          "47.19269",
          "47.16778",
          "47.15806",
          "47.16104",
          "47.24977",
          "47.23594",
          "47.20606",
          "47.17997",
          "47.16195",
          "47.03956",
          "47.03779",
          "47.04437",
          "22.95716",
          "47.05997",
          "47.0031",
          "46.99409",
          "47.06316",
          "46.97606",
          "47.38174",
          "47.45917",
          "46.63188",
          "47.45054",
          "47.45054",
          "67.01865",
          "46.72894",
          "46.72894",
          "46.6621",
          "46.60409",
          "47.11487",
          "47.11059",
          "46.95413",
          "46.56094",
          "47.00379",
          "47.00379",
          "46.53239",
          "47.32767",
          "46.80933",
          "46.80933",
          "47.40639",
          "46.97982",
          "47.47203",
          "47.04946",
          "47.04946",
          "47.23519",
          "47.23932",
          "46.98384",
          "46.52948",
          "46.84077",
          "46.84077",
          "47.01156",
          "46.57613",
          "47.20886",
          "46.57001",
          "47.46807",
          "46.88897",
          "46.68867",
          "46.82175",
          "46.82175",
          "47.00328",
          "46.37331",
          "46.53186",
          "47.00236",
          "47.21248",
          "46.52793",
          "46.66382",
          "47.34257",
          "47.37733",
          "46.85752",
          "46.71227",
          "46.44067",
          "47.35689",
          "46.40201",
          "46.89078",
          "46.49114",
          "46.94239",
          "45.91958",
          "45.98974",
          "45.78092",
          "45.71513",
          "45.71513",
          "45.73473",
          "45.58694",
          "46.07142",
          "45.72558",
          "46.27509",
          "46.20728",
          "45.75198",
          "46.27264",
          "46.04647",
          "45.61623",
          "46.01842",
          "45.823",
          "46.35588",
          "46.3088",
          "46.00813",
          "46.14425",
          "45.86161",
          "46.35232",
          "46.14681",
          "45.6939",
          "46.36545",
          "46.36545",
          "45.64119",
          "46.49147",
          "46.54905",
          "45.81539",
          "46.33397",
          "46.3354",
          "46.29694",
          "46.2716",
          "45.69417",
          "46.32447",
          "45.99588",
          "45.72902",
          "45.63248",
          "45.63201",
          "45.64251",
          "45.65675",
          "45.62158",
          "45.67871",
          "45.84657",
          "45.57923",
          "45.57923",
          "45.72776",
          "45.72776",
          "45.9094",
          "45.9094",
          "45.86679",
          "45.69345",
          "45.60365",
          "45.62832",
          "45.70954",
          "45.71668",
          "47.41494",
          "47.41515",
          "48.09967",
          "48.09967",
          "48.25448",
          "47.5224",
          "47.83985",
          "47.83985",
          "47.67562",
          "47.31867",
          "47.5982",
          "47.37238",
          "47.8118",
          "47.8854",
          "47.40718",
          "48.59369",
          "48.12868",
          "47.13196",
          "48.3654",
          "48.41078",
          "47.62352",
          "48.93881",
          "47.41492",
          "48.05502",
          "47.56805",
          "47.23748",
          "48.5012",
          "47.37163",
          "47.38898",
          "47.4263",
          "48.70854",
          "48.3652",
          "46.96971",
          "47.64963",
          "48.47396",
          "46.60448",
          "46.60138",
          "46.55282",
          "46.58514",
          "47.195",
          "47.2378",
          "46.99703",
          "46.25606",
          "46.25606",
          "46.33937",
          "46.98472",
          "46.21092",
          "46.55621",
          "46.7309",
          "46.3294",
          "47.23781",
          "47.22593",
          "46.65404",
          "47.18891",
          "46.32379",
          "47.05139",
          "46.70257",
          "46.37508",
          "46.94468",
          "46.44779",
          "46.38287",
          "46.40186",
          "47.6443",
          "47.89594",
          "47.48928",
          "47.83743",
          "47.95431",
          "47.95431",
          "47.50524",
          "48.01723",
          "48.01723",
          "47.64046",
          "47.38522",
          "47.90886",
          "47.65699",
          "47.20139",
          "47.27966",
          "47.66829",
          "47.7628",
          "47.57261",
          "47.56436",
          "47.7251",
          "47.77676",
          "47.70763",
          "47.66951",
          "47.66951",
          "47.45227",
          "47.42909",
          "47.30036",
          "47.22679",
          "47.5353",
          "47.65706",
          "48.35609",
          "48.28136",
          "46.87965",
          "46.56801",
          "48.54657",
          "47.61233",
          "47.9708",
          "48.88101",
          "48.33866",
          "48.99237",
          "47.65405",
          "47.93348",
          "46.92752",
          "48.71331",
          "48.0784",
          "47.00706",
          "48.31085",
          "47.94283",
          "47.4829",
          "47.69015",
          "48.11777",
          "48.29812",
          "48.61053",
          "48.61053",
          "47.82937",
          "48.06288",
          "48.18285",
          "48.18285",
          "47.33323",
          "46.9101",
          "46.73015",
          "48.64426",
          "48.42934",
          "47.1274",
          "47.23428",
          "47.23428",
          "47.09185",
          "48.05738",
          "46.53906",
          "48.31375",
          "48.17623",
          "47.75942",
          "47.65726",
          "47.65548",
          "47.63374",
          "47.64779",
          "47.69963",
          "47.65388",
          "47.67573",
          "47.7333",
          "47.6505",
          "47.67666",
          "47.70402",
          "47.74527",
          "47.63396",
          "47.59431",
          "46.23542",
          "46.26543",
          "46.1992",
          "46.03456",
          "46.66146",
          "46.32189",
          "46.45698",
          "46.20804",
          "46.19162",
          "46.20664",
          "46.97135",
          "46.57833",
          "46.82616",
          "46.82616",
          "46.82616",
          "46.47398",
          "46.29961",
          "46.73777",
          "46.20645",
          "46.20645",
          "46.27391",
          "46.2969",
          "46.31484",
          "45.74956",
          "46.90248",
          "46.04238",
          "46.27013",
          "46.07068",
          "46.34056",
          "46.41402"
         ],
         "legendgroup": "",
         "lon": [
          "-122.23035",
          "-122.21698",
          "-122.3303",
          "-122.1872",
          "-122.1621",
          "-122.12096",
          "-122.12053",
          "-122.11867",
          "-122.00143",
          "-122.20563",
          "-122.20563",
          "-122.21061",
          "-121.91353",
          "-121.98609",
          "-122.37689",
          "-122.18384",
          "-121.99136",
          "-121.99136",
          "-122.35206",
          "-121.89086",
          "-122.31768",
          "-122.03439",
          "-122.24369",
          "-122.00292",
          "-122.19564",
          "-122.17743",
          "-122.23741",
          "-122.2066",
          "-122.22901",
          "-122.29245",
          "-122.27734",
          "-122.04526",
          "-122.23892",
          "-122.21238",
          "-122.09124",
          "-122.31111",
          "-121.7831",
          "-122.24692",
          "-122.24692",
          "-121.93654",
          "-121.98233",
          "-122.13158",
          "-122.03287",
          "-122.21152",
          "-122.18463",
          "114.32466",
          "-122.08747",
          "-122.15771",
          "-121.82432",
          "-121.41201",
          "-122.4573",
          "-122.15545",
          "-122.15545",
          "-122.02054",
          "-122.03539",
          "-122.07479",
          "-122.07479",
          "-122.27981",
          "-122.17663",
          "-122.17663",
          "-122.34223",
          "-122.32427",
          "-122.35436",
          "-122.32945",
          "-122.31307",
          "-122.35186",
          "-122.38591",
          "-122.30346",
          "-122.346385",
          "-122.521",
          "-122.30716",
          "-122.31765",
          "-122.41067",
          "-122.38418",
          "-122.2668",
          "-122.3684",
          "-122.34468",
          "-122.31009",
          "-122.3026",
          "-121.97745",
          "-122.3503",
          "-122.32738",
          "-122.38415",
          "-122.30866",
          "-122.36178",
          "-122.32806",
          "-122.31327",
          "-122.30164",
          "-122.33145",
          "-122.34118",
          "-122.3317",
          "-122.36498",
          "-122.23825",
          "-122.28879",
          "-122.29592",
          "-122.40092",
          "-122.20596",
          "-122.23019",
          "-122.25527",
          "-122.31902",
          "-122.18637",
          "-122.20348",
          "-122.61214",
          "-122.61214",
          "-122.1264",
          "-121.48491",
          "-122.47122",
          "-122.49756",
          "-122.45516",
          "-122.45516",
          "-122.74888",
          "-122.397",
          "-122.33029",
          "-122.23452",
          "-122.35803",
          "-121.7515",
          "-122.68558",
          "-122.64219",
          "-121.60421",
          "-121.60421",
          "-123.00026",
          "-122.21766",
          "-122.91109",
          "-122.34536",
          "-122.59351",
          "-122.52664",
          "-123.01648",
          "-121.69743",
          "-121.69743",
          "-121.96931",
          "-122.56821",
          "-122.49724",
          "-122.06402",
          "-122.40618",
          "-122.91395",
          "-122.68321",
          "-122.05976",
          "-122.45079",
          "-122.07728",
          "-121.41604",
          "-122.1769",
          "-122.19388",
          "-121.98087",
          "-122.33891",
          "-122.32267",
          "-122.29196",
          "-122.32181",
          "-122.64682",
          "-122.8357",
          "-123.05688",
          "-122.40049",
          "-121.59274",
          "-122.23857",
          "-122.23857",
          "-122.92991",
          "-121.35912",
          "-122.09305",
          "-122.37265",
          "-121.81688",
          "-122.26496",
          "-122.1389",
          "-123.03598",
          "-122.67876",
          "-122.03243",
          "-122.03243",
          "-124.33152",
          "-122.61624",
          "-122.6462",
          "-122.66122",
          "-122.64751",
          "-122.70639",
          "-122.89646",
          "-122.02523",
          "-122.04735",
          "-122.77295",
          "-124.26015",
          "-122.62954",
          "-122.26832",
          "-122.72457",
          "-122.72457",
          "-124.38543",
          "-124.38543",
          "-122.60302",
          "-122.65107",
          "-122.58009",
          "-122.13017",
          "-122.62749",
          "-122.29477",
          "-122.75878",
          "-122.54758",
          "-122.51843",
          "-122.62316",
          "-122.49771",
          "-122.75493",
          "-122.75905",
          "-122.32172",
          "-122.32172",
          "-122.18768",
          "-122.27511",
          "-124.62735",
          "-122.69107",
          "-122.54729",
          "-122.20166",
          "-121.66939",
          "-123.4313",
          "-123.46296",
          "-122.68475",
          "-122.63847",
          "-122.65745",
          "-122.77263",
          "-122.64681",
          "-122.29537",
          "-122.28556",
          "-122.35051",
          "-122.28449",
          "-122.30116",
          "-122.8775",
          "-121.95585",
          "-122.81585",
          "-124.30041",
          "-123.10367",
          "-123.10367",
          "-122.69275",
          "-122.09624",
          "-122.41046",
          "-122.59802",
          "-122.23972",
          "-122.17144",
          "-122.55242",
          "-122.76355",
          "-122.44164",
          "-122.45691",
          "-122.41249",
          "-122.48271",
          "-122.52054",
          "-122.51766",
          "-122.44718",
          "-122.47554",
          "-122.43874",
          "-122.40527",
          "-122.41666",
          "-122.35686",
          "-122.57908",
          "-122.50156",
          "-122.53087",
          "-122.36646",
          "-122.46495",
          "-122.41894",
          "-122.37571",
          "-122.52886",
          "-122.5338",
          "-122.53691",
          "-122.54795",
          "-122.51495",
          "-122.89166",
          "-122.92333",
          "-122.82324",
          "-102.69968",
          "-122.87741",
          "-122.92057",
          "-122.80277",
          "-122.75379",
          "-123.81619",
          "-122.82983",
          "-123.89691",
          "-123.95518",
          "-122.82764",
          "-122.82764",
          "27.25316",
          "-122.95298",
          "-122.95298",
          "-122.96462",
          "-122.49165",
          "-124.16705",
          "-124.07463",
          "-123.76901",
          "-123.13056",
          "-123.40382",
          "-123.40382",
          "-122.7478",
          "-122.82364",
          "-124.09366",
          "-124.09366",
          "-123.14135",
          "-123.88689",
          "-123.0921",
          "-123.26405",
          "-123.26405",
          "-123.40727",
          "-124.21349",
          "-123.60076",
          "-122.48446",
          "-123.23286",
          "-123.23286",
          "-124.16408",
          "-122.69891",
          "-124.20177",
          "-123.29831",
          "-123.84618",
          "-122.68993",
          "-123.72994",
          "-123.08743",
          "-123.08743",
          "-122.54332",
          "-123.04373",
          "-122.6306",
          "-123.48162",
          "-123.10565",
          "-122.60209",
          "-123.81481",
          "-124.28628",
          "-123.04061",
          "-122.85135",
          "-123.99814",
          "-122.84784",
          "-123.09944",
          "-122.95015",
          "-124.10424",
          "-122.93881",
          "-122.60735",
          "-122.42148",
          "-122.53658",
          "-122.5331",
          "-121.46623",
          "-121.46623",
          "-122.54578",
          "-122.40199",
          "-122.86239",
          "-121.82048",
          "-122.90724",
          "-123.38568",
          "-120.903",
          "-123.94534",
          "-122.30857",
          "-121.14532",
          "-121.29272",
          "-120.82548",
          "-123.61022",
          "-124.03547",
          "-122.84226",
          "-122.89868",
          "-122.67244",
          "-124.05439",
          "-122.95058",
          "-121.28544",
          "-123.81154",
          "-123.81154",
          "-121.97",
          "-124.0495",
          "-124.02697",
          "-122.74595",
          "-123.6386",
          "-124.05475",
          "-122.8112",
          "-123.45797",
          "-121.88258",
          "-122.73237",
          "-121.52529",
          "-121.52357",
          "-122.67156",
          "-122.62934",
          "-122.57722",
          "-122.64695",
          "-122.59219",
          "-122.64443",
          "-121.10717",
          "-122.35341",
          "-122.35341",
          "-121.48704",
          "-121.48704",
          "-122.74017",
          "-122.74017",
          "-122.40908",
          "-122.55149",
          "-122.49212",
          "-122.5476",
          "-122.70303",
          "-122.62731",
          "-120.30522",
          "-120.29473",
          "-119.78093",
          "-119.78093",
          "-120.10803",
          "-120.47005",
          "-120.01454",
          "-120.01454",
          "-120.20831",
          "-119.55125",
          "-120.65754",
          "-120.20227",
          "-119.63759",
          "-120.16034",
          "-118.98504",
          "-120.4072",
          "-120.0051",
          "-119.2771",
          "-119.57959",
          "-119.52724",
          "-120.22795",
          "-119.43558",
          "-119.9176",
          "-119.89975",
          "-120.60364",
          "-119.85338",
          "-119.50853",
          "-120.14545",
          "-119.48323",
          "-119.27844",
          "-119.43683",
          "-120.1231",
          "-119.04573",
          "-120.07145",
          "-120.17739",
          "-120.50721",
          "-120.52301",
          "-120.47794",
          "-120.56916",
          "-120.93943",
          "-121.17954",
          "-120.54872",
          "-119.90123",
          "-119.90123",
          "-120.18721",
          "-120.41752",
          "-119.99854",
          "-120.39197",
          "-120.69972",
          "-120.08512",
          "-121.02627",
          "-120.99607",
          "-120.53113",
          "-120.94822",
          "-120.00949",
          "-120.66621",
          "-120.75541",
          "-120.31298",
          "-119.9899",
          "-120.42051",
          "-120.73063",
          "-120.26186",
          "-117.59311",
          "-117.35237",
          "-117.57445",
          "-117.35414",
          "-117.47154",
          "-117.47154",
          "-117.95109",
          "-117.27816",
          "-117.27816",
          "-117.64458",
          "-117.17125",
          "-117.80582",
          "-117.1748",
          "-117.90629",
          "-117.15511",
          "-117.1015",
          "-117.35586",
          "-117.68269",
          "-117.21611",
          "-117.06882",
          "-117.54392",
          "-117.11195",
          "-117.87704",
          "-117.87704",
          "-117.13261",
          "-117.38035",
          "-117.97378",
          "-117.07351",
          "-117.23995",
          "-117.19631",
          "-117.8379",
          "-117.71555",
          "-117.36477",
          "-117.12984",
          "-117.90454",
          "-119.28816",
          "-118.97669",
          "-118.60061",
          "-117.30443",
          "-118.50797",
          "-118.14913",
          "-119.03591",
          "-117.68485",
          "-118.02345",
          "-118.19894",
          "-117.13359",
          "-118.13633",
          "-119.00041",
          "-118.25682",
          "-119.10557",
          "-118.20299",
          "-118.19657",
          "-118.06211",
          "-118.06211",
          "-118.41899",
          "-117.63731",
          "-117.04398",
          "-117.04398",
          "-118.68999",
          "-117.0768",
          "-117.18147",
          "-118.73748",
          "-118.16165",
          "-118.37977",
          "-117.37047",
          "-117.37047",
          "-117.5821",
          "-117.74137",
          "-117.08742",
          "-117.28054",
          "-117.72555",
          "-118.70912",
          "-117.41162",
          "-117.3797",
          "-117.39322",
          "-117.42571",
          "-117.45674",
          "-117.2718",
          "-117.3973",
          "-117.45005",
          "-117.3186",
          "-117.2335",
          "-117.37056",
          "-117.4077",
          "-117.36043",
          "-117.46996",
          "-119.09467",
          "-119.48756",
          "-119.01561",
          "-118.38864",
          "-118.86063",
          "-117.97577",
          "-119.01647",
          "-119.11698",
          "-119.141",
          "-119.3118",
          "-118.61566",
          "-119.00503",
          "-119.1742",
          "-119.1742",
          "-119.1742",
          "-117.58937",
          "-118.31243",
          "-119.9",
          "-119.76877",
          "-119.76877",
          "-119.27372",
          "-119.33788",
          "-119.26844",
          "-120.20117",
          "-119.63136",
          "-118.66919",
          "-118.15448",
          "-118.34261",
          "-117.04784",
          "-117.04556"
         ],
         "marker": {
          "color": [
           465,
           165,
           312,
           2001,
           829,
           1851,
           641,
           964,
           191,
           705,
           1,
           1850,
           240,
           378,
           550,
           1155,
           204,
           11,
           514,
           188,
           784,
           1060,
           682,
           1182,
           327,
           518,
           374,
           2059,
           1578,
           674,
           396,
           813,
           242,
           1639,
           718,
           276,
           466,
           39,
           4,
           1,
           60,
           2914,
           1169,
           338,
           735,
           348,
           701,
           1200,
           507,
           13,
           472,
           1574,
           87,
           1594,
           1329,
           27,
           25,
           555,
           485,
           128,
           428,
           594,
           1507,
           608,
           1008,
           472,
           736,
           433,
           1089,
           1224,
           1110,
           1878,
           749,
           1198,
           978,
           686,
           545,
           928,
           958,
           541,
           864,
           158,
           544,
           848,
           414,
           622,
           858,
           1,
           1,
           410,
           364,
           776,
           368,
           303,
           331,
           857,
           250,
           344,
           213,
           3,
           667,
           6,
           7,
           422,
           363,
           3,
           665,
           605,
           7,
           674,
           275,
           75,
           99,
           2,
           160,
           21,
           149,
           22,
           2,
           6,
           1,
           22,
           228,
           59,
           238,
           139,
           331,
           1,
           40,
           98,
           40,
           60,
           756,
           179,
           98,
           33,
           1,
           134,
           21,
           2,
           468,
           214,
           457,
           226,
           199,
           493,
           3,
           314,
           39,
           44,
           317,
           1,
           111,
           28,
           11,
           3,
           627,
           274,
           89,
           10,
           697,
           2,
           25,
           1,
           5,
           1,
           165,
           220,
           372,
           2,
           15,
           16,
           148,
           4,
           23,
           1,
           120,
           80,
           3,
           151,
           14,
           1,
           479,
           136,
           635,
           1,
           43,
           204,
           34,
           41,
           38,
           8,
           181,
           65,
           13,
           9,
           36,
           5,
           11,
           7,
           38,
           66,
           98,
           10,
           197,
           101,
           86,
           281,
           358,
           452,
           487,
           236,
           220,
           174,
           394,
           209,
           37,
           3,
           57,
           2,
           405,
           11,
           218,
           2,
           244,
           118,
           120,
           789,
           48,
           18,
           86,
           117,
           184,
           185,
           282,
           405,
           110,
           163,
           63,
           6,
           369,
           79,
           43,
           4,
           49,
           49,
           117,
           147,
           79,
           73,
           360,
           211,
           236,
           153,
           1184,
           619,
           373,
           8,
           362,
           386,
           380,
           422,
           99,
           49,
           1,
           1,
           1,
           103,
           1,
           132,
           13,
           140,
           2,
           1,
           2,
           8,
           4,
           34,
           6,
           5,
           48,
           5,
           2,
           32,
           42,
           4,
           19,
           1,
           1,
           3,
           53,
           17,
           11,
           1,
           89,
           15,
           16,
           1,
           1,
           37,
           31,
           6,
           69,
           89,
           1,
           3,
           2,
           255,
           7,
           3,
           2,
           16,
           65,
           7,
           23,
           32,
           4,
           14,
           41,
           189,
           14,
           11,
           355,
           2,
           1,
           199,
           1020,
           1,
           15,
           49,
           30,
           1,
           2,
           2,
           6,
           2,
           26,
           1,
           10,
           76,
           104,
           127,
           21,
           220,
           16,
           11,
           3,
           7,
           49,
           1,
           564,
           1,
           7,
           20,
           4,
           43,
           3,
           14,
           23,
           201,
           405,
           328,
           171,
           260,
           298,
           2,
           333,
           48,
           105,
           2,
           27,
           82,
           29,
           635,
           491,
           342,
           508,
           374,
           253,
           169,
           1,
           6,
           6,
           46,
           114,
           1,
           15,
           34,
           150,
           18,
           2,
           44,
           2,
           14,
           2,
           173,
           5,
           11,
           37,
           12,
           2,
           5,
           14,
           63,
           5,
           4,
           13,
           1,
           13,
           30,
           2,
           4,
           39,
           69,
           105,
           46,
           185,
           137,
           17,
           178,
           3,
           19,
           7,
           4,
           1,
           21,
           17,
           3,
           26,
           11,
           63,
           2,
           39,
           3,
           5,
           9,
           1,
           5,
           1,
           20,
           16,
           23,
           108,
           71,
           39,
           4,
           3,
           3,
           15,
           10,
           1,
           2,
           135,
           1,
           1,
           119,
           41,
           36,
           6,
           25,
           31,
           31,
           4,
           2,
           5,
           7,
           1,
           3,
           16,
           77,
           3,
           12,
           12,
           2,
           37,
           8,
           2,
           7,
           3,
           1,
           8,
           4,
           2,
           4,
           2,
           2,
           1,
           5,
           3,
           1,
           1,
           2,
           7,
           11,
           2,
           4,
           24,
           1,
           1,
           10,
           138,
           10,
           4,
           10,
           1,
           4,
           2,
           2,
           1,
           2,
           6,
           4,
           78,
           78,
           244,
           46,
           130,
           135,
           63,
           315,
           167,
           83,
           75,
           64,
           290,
           197,
           347,
           42,
           11,
           40,
           5,
           13,
           4,
           162,
           177,
           228,
           2,
           5,
           22,
           4,
           5,
           4,
           1,
           16,
           34,
           2,
           397,
           142,
           191,
           1,
           13,
           4,
           8,
           248,
           9,
           39
          ],
          "coloraxis": "coloraxis",
          "size": [
           465,
           165,
           312,
           2001,
           829,
           1851,
           641,
           964,
           191,
           705,
           1,
           1850,
           240,
           378,
           550,
           1155,
           204,
           11,
           514,
           188,
           784,
           1060,
           682,
           1182,
           327,
           518,
           374,
           2059,
           1578,
           674,
           396,
           813,
           242,
           1639,
           718,
           276,
           466,
           39,
           4,
           1,
           60,
           2914,
           1169,
           338,
           735,
           348,
           701,
           1200,
           507,
           13,
           472,
           1574,
           87,
           1594,
           1329,
           27,
           25,
           555,
           485,
           128,
           428,
           594,
           1507,
           608,
           1008,
           472,
           736,
           433,
           1089,
           1224,
           1110,
           1878,
           749,
           1198,
           978,
           686,
           545,
           928,
           958,
           541,
           864,
           158,
           544,
           848,
           414,
           622,
           858,
           1,
           1,
           410,
           364,
           776,
           368,
           303,
           331,
           857,
           250,
           344,
           213,
           3,
           667,
           6,
           7,
           422,
           363,
           3,
           665,
           605,
           7,
           674,
           275,
           75,
           99,
           2,
           160,
           21,
           149,
           22,
           2,
           6,
           1,
           22,
           228,
           59,
           238,
           139,
           331,
           1,
           40,
           98,
           40,
           60,
           756,
           179,
           98,
           33,
           1,
           134,
           21,
           2,
           468,
           214,
           457,
           226,
           199,
           493,
           3,
           314,
           39,
           44,
           317,
           1,
           111,
           28,
           11,
           3,
           627,
           274,
           89,
           10,
           697,
           2,
           25,
           1,
           5,
           1,
           165,
           220,
           372,
           2,
           15,
           16,
           148,
           4,
           23,
           1,
           120,
           80,
           3,
           151,
           14,
           1,
           479,
           136,
           635,
           1,
           43,
           204,
           34,
           41,
           38,
           8,
           181,
           65,
           13,
           9,
           36,
           5,
           11,
           7,
           38,
           66,
           98,
           10,
           197,
           101,
           86,
           281,
           358,
           452,
           487,
           236,
           220,
           174,
           394,
           209,
           37,
           3,
           57,
           2,
           405,
           11,
           218,
           2,
           244,
           118,
           120,
           789,
           48,
           18,
           86,
           117,
           184,
           185,
           282,
           405,
           110,
           163,
           63,
           6,
           369,
           79,
           43,
           4,
           49,
           49,
           117,
           147,
           79,
           73,
           360,
           211,
           236,
           153,
           1184,
           619,
           373,
           8,
           362,
           386,
           380,
           422,
           99,
           49,
           1,
           1,
           1,
           103,
           1,
           132,
           13,
           140,
           2,
           1,
           2,
           8,
           4,
           34,
           6,
           5,
           48,
           5,
           2,
           32,
           42,
           4,
           19,
           1,
           1,
           3,
           53,
           17,
           11,
           1,
           89,
           15,
           16,
           1,
           1,
           37,
           31,
           6,
           69,
           89,
           1,
           3,
           2,
           255,
           7,
           3,
           2,
           16,
           65,
           7,
           23,
           32,
           4,
           14,
           41,
           189,
           14,
           11,
           355,
           2,
           1,
           199,
           1020,
           1,
           15,
           49,
           30,
           1,
           2,
           2,
           6,
           2,
           26,
           1,
           10,
           76,
           104,
           127,
           21,
           220,
           16,
           11,
           3,
           7,
           49,
           1,
           564,
           1,
           7,
           20,
           4,
           43,
           3,
           14,
           23,
           201,
           405,
           328,
           171,
           260,
           298,
           2,
           333,
           48,
           105,
           2,
           27,
           82,
           29,
           635,
           491,
           342,
           508,
           374,
           253,
           169,
           1,
           6,
           6,
           46,
           114,
           1,
           15,
           34,
           150,
           18,
           2,
           44,
           2,
           14,
           2,
           173,
           5,
           11,
           37,
           12,
           2,
           5,
           14,
           63,
           5,
           4,
           13,
           1,
           13,
           30,
           2,
           4,
           39,
           69,
           105,
           46,
           185,
           137,
           17,
           178,
           3,
           19,
           7,
           4,
           1,
           21,
           17,
           3,
           26,
           11,
           63,
           2,
           39,
           3,
           5,
           9,
           1,
           5,
           1,
           20,
           16,
           23,
           108,
           71,
           39,
           4,
           3,
           3,
           15,
           10,
           1,
           2,
           135,
           1,
           1,
           119,
           41,
           36,
           6,
           25,
           31,
           31,
           4,
           2,
           5,
           7,
           1,
           3,
           16,
           77,
           3,
           12,
           12,
           2,
           37,
           8,
           2,
           7,
           3,
           1,
           8,
           4,
           2,
           4,
           2,
           2,
           1,
           5,
           3,
           1,
           1,
           2,
           7,
           11,
           2,
           4,
           24,
           1,
           1,
           10,
           138,
           10,
           4,
           10,
           1,
           4,
           2,
           2,
           1,
           2,
           6,
           4,
           78,
           78,
           244,
           46,
           130,
           135,
           63,
           315,
           167,
           83,
           75,
           64,
           290,
           197,
           347,
           42,
           11,
           40,
           5,
           13,
           4,
           162,
           177,
           228,
           2,
           5,
           22,
           4,
           5,
           4,
           1,
           16,
           34,
           2,
           397,
           142,
           191,
           1,
           13,
           4,
           8,
           248,
           9,
           39
          ],
          "sizemode": "area",
          "sizeref": 7.285,
          "symbol": "circle"
         },
         "mode": "markers",
         "name": "",
         "showlegend": false,
         "type": "scattergeo"
        }
       ],
       "layout": {
        "coloraxis": {
         "colorbar": {
          "title": {
           "text": "ev_count"
          }
         },
         "colorscale": [
          [
           0,
           "#440154"
          ],
          [
           0.1111111111111111,
           "#482878"
          ],
          [
           0.2222222222222222,
           "#3e4989"
          ],
          [
           0.3333333333333333,
           "#31688e"
          ],
          [
           0.4444444444444444,
           "#26828e"
          ],
          [
           0.5555555555555556,
           "#1f9e89"
          ],
          [
           0.6666666666666666,
           "#35b779"
          ],
          [
           0.7777777777777778,
           "#6ece58"
          ],
          [
           0.8888888888888888,
           "#b5de2b"
          ],
          [
           1,
           "#fde725"
          ]
         ]
        },
        "geo": {
         "center": {},
         "domain": {
          "x": [
           0,
           1
          ],
          "y": [
           0,
           1
          ]
         },
         "scope": "usa"
        },
        "legend": {
         "itemsizing": "constant",
         "tracegroupgap": 0
        },
        "template": {
         "data": {
          "bar": [
           {
            "error_x": {
             "color": "#2a3f5f"
            },
            "error_y": {
             "color": "#2a3f5f"
            },
            "marker": {
             "line": {
              "color": "#E5ECF6",
              "width": 0.5
             },
             "pattern": {
              "fillmode": "overlay",
              "size": 10,
              "solidity": 0.2
             }
            },
            "type": "bar"
           }
          ],
          "barpolar": [
           {
            "marker": {
             "line": {
              "color": "#E5ECF6",
              "width": 0.5
             },
             "pattern": {
              "fillmode": "overlay",
              "size": 10,
              "solidity": 0.2
             }
            },
            "type": "barpolar"
           }
          ],
          "carpet": [
           {
            "aaxis": {
             "endlinecolor": "#2a3f5f",
             "gridcolor": "white",
             "linecolor": "white",
             "minorgridcolor": "white",
             "startlinecolor": "#2a3f5f"
            },
            "baxis": {
             "endlinecolor": "#2a3f5f",
             "gridcolor": "white",
             "linecolor": "white",
             "minorgridcolor": "white",
             "startlinecolor": "#2a3f5f"
            },
            "type": "carpet"
           }
          ],
          "choropleth": [
           {
            "colorbar": {
             "outlinewidth": 0,
             "ticks": ""
            },
            "type": "choropleth"
           }
          ],
          "contour": [
           {
            "colorbar": {
             "outlinewidth": 0,
             "ticks": ""
            },
            "colorscale": [
             [
              0,
              "#0d0887"
             ],
             [
              0.1111111111111111,
              "#46039f"
             ],
             [
              0.2222222222222222,
              "#7201a8"
             ],
             [
              0.3333333333333333,
              "#9c179e"
             ],
             [
              0.4444444444444444,
              "#bd3786"
             ],
             [
              0.5555555555555556,
              "#d8576b"
             ],
             [
              0.6666666666666666,
              "#ed7953"
             ],
             [
              0.7777777777777778,
              "#fb9f3a"
             ],
             [
              0.8888888888888888,
              "#fdca26"
             ],
             [
              1,
              "#f0f921"
             ]
            ],
            "type": "contour"
           }
          ],
          "contourcarpet": [
           {
            "colorbar": {
             "outlinewidth": 0,
             "ticks": ""
            },
            "type": "contourcarpet"
           }
          ],
          "heatmap": [
           {
            "colorbar": {
             "outlinewidth": 0,
             "ticks": ""
            },
            "colorscale": [
             [
              0,
              "#0d0887"
             ],
             [
              0.1111111111111111,
              "#46039f"
             ],
             [
              0.2222222222222222,
              "#7201a8"
             ],
             [
              0.3333333333333333,
              "#9c179e"
             ],
             [
              0.4444444444444444,
              "#bd3786"
             ],
             [
              0.5555555555555556,
              "#d8576b"
             ],
             [
              0.6666666666666666,
              "#ed7953"
             ],
             [
              0.7777777777777778,
              "#fb9f3a"
             ],
             [
              0.8888888888888888,
              "#fdca26"
             ],
             [
              1,
              "#f0f921"
             ]
            ],
            "type": "heatmap"
           }
          ],
          "heatmapgl": [
           {
            "colorbar": {
             "outlinewidth": 0,
             "ticks": ""
            },
            "colorscale": [
             [
              0,
              "#0d0887"
             ],
             [
              0.1111111111111111,
              "#46039f"
             ],
             [
              0.2222222222222222,
              "#7201a8"
             ],
             [
              0.3333333333333333,
              "#9c179e"
             ],
             [
              0.4444444444444444,
              "#bd3786"
             ],
             [
              0.5555555555555556,
              "#d8576b"
             ],
             [
              0.6666666666666666,
              "#ed7953"
             ],
             [
              0.7777777777777778,
              "#fb9f3a"
             ],
             [
              0.8888888888888888,
              "#fdca26"
             ],
             [
              1,
              "#f0f921"
             ]
            ],
            "type": "heatmapgl"
           }
          ],
          "histogram": [
           {
            "marker": {
             "pattern": {
              "fillmode": "overlay",
              "size": 10,
              "solidity": 0.2
             }
            },
            "type": "histogram"
           }
          ],
          "histogram2d": [
           {
            "colorbar": {
             "outlinewidth": 0,
             "ticks": ""
            },
            "colorscale": [
             [
              0,
              "#0d0887"
             ],
             [
              0.1111111111111111,
              "#46039f"
             ],
             [
              0.2222222222222222,
              "#7201a8"
             ],
             [
              0.3333333333333333,
              "#9c179e"
             ],
             [
              0.4444444444444444,
              "#bd3786"
             ],
             [
              0.5555555555555556,
              "#d8576b"
             ],
             [
              0.6666666666666666,
              "#ed7953"
             ],
             [
              0.7777777777777778,
              "#fb9f3a"
             ],
             [
              0.8888888888888888,
              "#fdca26"
             ],
             [
              1,
              "#f0f921"
             ]
            ],
            "type": "histogram2d"
           }
          ],
          "histogram2dcontour": [
           {
            "colorbar": {
             "outlinewidth": 0,
             "ticks": ""
            },
            "colorscale": [
             [
              0,
              "#0d0887"
             ],
             [
              0.1111111111111111,
              "#46039f"
             ],
             [
              0.2222222222222222,
              "#7201a8"
             ],
             [
              0.3333333333333333,
              "#9c179e"
             ],
             [
              0.4444444444444444,
              "#bd3786"
             ],
             [
              0.5555555555555556,
              "#d8576b"
             ],
             [
              0.6666666666666666,
              "#ed7953"
             ],
             [
              0.7777777777777778,
              "#fb9f3a"
             ],
             [
              0.8888888888888888,
              "#fdca26"
             ],
             [
              1,
              "#f0f921"
             ]
            ],
            "type": "histogram2dcontour"
           }
          ],
          "mesh3d": [
           {
            "colorbar": {
             "outlinewidth": 0,
             "ticks": ""
            },
            "type": "mesh3d"
           }
          ],
          "parcoords": [
           {
            "line": {
             "colorbar": {
              "outlinewidth": 0,
              "ticks": ""
             }
            },
            "type": "parcoords"
           }
          ],
          "pie": [
           {
            "automargin": true,
            "type": "pie"
           }
          ],
          "scatter": [
           {
            "fillpattern": {
             "fillmode": "overlay",
             "size": 10,
             "solidity": 0.2
            },
            "type": "scatter"
           }
          ],
          "scatter3d": [
           {
            "line": {
             "colorbar": {
              "outlinewidth": 0,
              "ticks": ""
             }
            },
            "marker": {
             "colorbar": {
              "outlinewidth": 0,
              "ticks": ""
             }
            },
            "type": "scatter3d"
           }
          ],
          "scattercarpet": [
           {
            "marker": {
             "colorbar": {
              "outlinewidth": 0,
              "ticks": ""
             }
            },
            "type": "scattercarpet"
           }
          ],
          "scattergeo": [
           {
            "marker": {
             "colorbar": {
              "outlinewidth": 0,
              "ticks": ""
             }
            },
            "type": "scattergeo"
           }
          ],
          "scattergl": [
           {
            "marker": {
             "colorbar": {
              "outlinewidth": 0,
              "ticks": ""
             }
            },
            "type": "scattergl"
           }
          ],
          "scattermapbox": [
           {
            "marker": {
             "colorbar": {
              "outlinewidth": 0,
              "ticks": ""
             }
            },
            "type": "scattermapbox"
           }
          ],
          "scatterpolar": [
           {
            "marker": {
             "colorbar": {
              "outlinewidth": 0,
              "ticks": ""
             }
            },
            "type": "scatterpolar"
           }
          ],
          "scatterpolargl": [
           {
            "marker": {
             "colorbar": {
              "outlinewidth": 0,
              "ticks": ""
             }
            },
            "type": "scatterpolargl"
           }
          ],
          "scatterternary": [
           {
            "marker": {
             "colorbar": {
              "outlinewidth": 0,
              "ticks": ""
             }
            },
            "type": "scatterternary"
           }
          ],
          "surface": [
           {
            "colorbar": {
             "outlinewidth": 0,
             "ticks": ""
            },
            "colorscale": [
             [
              0,
              "#0d0887"
             ],
             [
              0.1111111111111111,
              "#46039f"
             ],
             [
              0.2222222222222222,
              "#7201a8"
             ],
             [
              0.3333333333333333,
              "#9c179e"
             ],
             [
              0.4444444444444444,
              "#bd3786"
             ],
             [
              0.5555555555555556,
              "#d8576b"
             ],
             [
              0.6666666666666666,
              "#ed7953"
             ],
             [
              0.7777777777777778,
              "#fb9f3a"
             ],
             [
              0.8888888888888888,
              "#fdca26"
             ],
             [
              1,
              "#f0f921"
             ]
            ],
            "type": "surface"
           }
          ],
          "table": [
           {
            "cells": {
             "fill": {
              "color": "#EBF0F8"
             },
             "line": {
              "color": "white"
             }
            },
            "header": {
             "fill": {
              "color": "#C8D4E3"
             },
             "line": {
              "color": "white"
             }
            },
            "type": "table"
           }
          ]
         },
         "layout": {
          "annotationdefaults": {
           "arrowcolor": "#2a3f5f",
           "arrowhead": 0,
           "arrowwidth": 1
          },
          "autotypenumbers": "strict",
          "coloraxis": {
           "colorbar": {
            "outlinewidth": 0,
            "ticks": ""
           }
          },
          "colorscale": {
           "diverging": [
            [
             0,
             "#8e0152"
            ],
            [
             0.1,
             "#c51b7d"
            ],
            [
             0.2,
             "#de77ae"
            ],
            [
             0.3,
             "#f1b6da"
            ],
            [
             0.4,
             "#fde0ef"
            ],
            [
             0.5,
             "#f7f7f7"
            ],
            [
             0.6,
             "#e6f5d0"
            ],
            [
             0.7,
             "#b8e186"
            ],
            [
             0.8,
             "#7fbc41"
            ],
            [
             0.9,
             "#4d9221"
            ],
            [
             1,
             "#276419"
            ]
           ],
           "sequential": [
            [
             0,
             "#0d0887"
            ],
            [
             0.1111111111111111,
             "#46039f"
            ],
            [
             0.2222222222222222,
             "#7201a8"
            ],
            [
             0.3333333333333333,
             "#9c179e"
            ],
            [
             0.4444444444444444,
             "#bd3786"
            ],
            [
             0.5555555555555556,
             "#d8576b"
            ],
            [
             0.6666666666666666,
             "#ed7953"
            ],
            [
             0.7777777777777778,
             "#fb9f3a"
            ],
            [
             0.8888888888888888,
             "#fdca26"
            ],
            [
             1,
             "#f0f921"
            ]
           ],
           "sequentialminus": [
            [
             0,
             "#0d0887"
            ],
            [
             0.1111111111111111,
             "#46039f"
            ],
            [
             0.2222222222222222,
             "#7201a8"
            ],
            [
             0.3333333333333333,
             "#9c179e"
            ],
            [
             0.4444444444444444,
             "#bd3786"
            ],
            [
             0.5555555555555556,
             "#d8576b"
            ],
            [
             0.6666666666666666,
             "#ed7953"
            ],
            [
             0.7777777777777778,
             "#fb9f3a"
            ],
            [
             0.8888888888888888,
             "#fdca26"
            ],
            [
             1,
             "#f0f921"
            ]
           ]
          },
          "colorway": [
           "#636efa",
           "#EF553B",
           "#00cc96",
           "#ab63fa",
           "#FFA15A",
           "#19d3f3",
           "#FF6692",
           "#B6E880",
           "#FF97FF",
           "#FECB52"
          ],
          "font": {
           "color": "#2a3f5f"
          },
          "geo": {
           "bgcolor": "white",
           "lakecolor": "white",
           "landcolor": "#E5ECF6",
           "showlakes": true,
           "showland": true,
           "subunitcolor": "white"
          },
          "hoverlabel": {
           "align": "left"
          },
          "hovermode": "closest",
          "mapbox": {
           "style": "light"
          },
          "paper_bgcolor": "white",
          "plot_bgcolor": "#E5ECF6",
          "polar": {
           "angularaxis": {
            "gridcolor": "white",
            "linecolor": "white",
            "ticks": ""
           },
           "bgcolor": "#E5ECF6",
           "radialaxis": {
            "gridcolor": "white",
            "linecolor": "white",
            "ticks": ""
           }
          },
          "scene": {
           "xaxis": {
            "backgroundcolor": "#E5ECF6",
            "gridcolor": "white",
            "gridwidth": 2,
            "linecolor": "white",
            "showbackground": true,
            "ticks": "",
            "zerolinecolor": "white"
           },
           "yaxis": {
            "backgroundcolor": "#E5ECF6",
            "gridcolor": "white",
            "gridwidth": 2,
            "linecolor": "white",
            "showbackground": true,
            "ticks": "",
            "zerolinecolor": "white"
           },
           "zaxis": {
            "backgroundcolor": "#E5ECF6",
            "gridcolor": "white",
            "gridwidth": 2,
            "linecolor": "white",
            "showbackground": true,
            "ticks": "",
            "zerolinecolor": "white"
           }
          },
          "shapedefaults": {
           "line": {
            "color": "#2a3f5f"
           }
          },
          "ternary": {
           "aaxis": {
            "gridcolor": "white",
            "linecolor": "white",
            "ticks": ""
           },
           "baxis": {
            "gridcolor": "white",
            "linecolor": "white",
            "ticks": ""
           },
           "bgcolor": "#E5ECF6",
           "caxis": {
            "gridcolor": "white",
            "linecolor": "white",
            "ticks": ""
           }
          },
          "title": {
           "x": 0.05
          },
          "xaxis": {
           "automargin": true,
           "gridcolor": "white",
           "linecolor": "white",
           "ticks": "",
           "title": {
            "standoff": 15
           },
           "zerolinecolor": "white",
           "zerolinewidth": 2
          },
          "yaxis": {
           "automargin": true,
           "gridcolor": "white",
           "linecolor": "white",
           "ticks": "",
           "title": {
            "standoff": 15
           },
           "zerolinecolor": "white",
           "zerolinewidth": 2
          }
         }
        },
        "title": {
         "text": "Number of Electric Vehicles by Location"
        }
       }
      }
     },
     "metadata": {},
     "output_type": "display_data"
    }
   ],
   "source": [
    "\n",
    "fig = px.scatter_geo(location_data_df,\n",
    "                     lat='latitude',\n",
    "                     lon='longitude',\n",
    "                     color='ev_count', \n",
    "                     hover_name='county', \n",
    "                     hover_data=['postal_code', 'ev_count'],\n",
    "                     size='ev_count',\n",
    "                     title=\"Number of Electric Vehicles by Location\",\n",
    "                     color_continuous_scale='Viridis',\n",
    "                     scope='usa')\n",
    "\n",
    "fig.show()"
   ]
  },
  {
   "cell_type": "code",
   "execution_count": null,
   "metadata": {},
   "outputs": [],
   "source": []
  }
 ],
 "metadata": {
  "kernelspec": {
   "display_name": "Python 3",
   "language": "python",
   "name": "python3"
  },
  "language_info": {
   "codemirror_mode": {
    "name": "ipython",
    "version": 3
   },
   "file_extension": ".py",
   "mimetype": "text/x-python",
   "name": "python",
   "nbconvert_exporter": "python",
   "pygments_lexer": "ipython3",
   "version": "3.12.7"
  }
 },
 "nbformat": 4,
 "nbformat_minor": 2
}
